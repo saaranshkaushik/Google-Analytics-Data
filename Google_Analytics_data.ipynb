{
  "nbformat": 4,
  "nbformat_minor": 0,
  "metadata": {
    "colab": {
      "name": "Google Analytics data.ipynb",
      "provenance": []
    },
    "kernelspec": {
      "name": "python3",
      "display_name": "Python 3"
    },
    "language_info": {
      "name": "python"
    }
  },
  "cells": [
    {
      "cell_type": "code",
      "metadata": {
        "id": "-3Zo34aUmFFB"
      },
      "source": [
        "import pandas as pd\n",
        "import numpy as np\n",
        "import matplotlib.pyplot as plt\n",
        "import seaborn as sns\n",
        "from datetime import datetime"
      ],
      "execution_count": 1,
      "outputs": []
    },
    {
      "cell_type": "code",
      "metadata": {
        "colab": {
          "base_uri": "https://localhost:8080/"
        },
        "id": "ADlg3C2dmOfe",
        "outputId": "cf9abad3-6e33-41f0-89b2-e81bbb363f50"
      },
      "source": [
        "df = pd.read_csv(\"/content/sample_user_data.csv\")"
      ],
      "execution_count": 7,
      "outputs": [
        {
          "output_type": "stream",
          "text": [
            "/usr/local/lib/python3.7/dist-packages/IPython/core/interactiveshell.py:2718: DtypeWarning: Columns (0) have mixed types.Specify dtype option on import or set low_memory=False.\n",
            "  interactivity=interactivity, compiler=compiler, result=result)\n"
          ],
          "name": "stderr"
        }
      ]
    },
    {
      "cell_type": "code",
      "metadata": {
        "colab": {
          "base_uri": "https://localhost:8080/",
          "height": 442
        },
        "id": "I5eMsfywo7om",
        "outputId": "597135d0-e9f0-433b-9ffc-6effcc28d485"
      },
      "source": [
        "df.head()"
      ],
      "execution_count": 8,
      "outputs": [
        {
          "output_type": "execute_result",
          "data": {
            "text/html": [
              "<div>\n",
              "<style scoped>\n",
              "    .dataframe tbody tr th:only-of-type {\n",
              "        vertical-align: middle;\n",
              "    }\n",
              "\n",
              "    .dataframe tbody tr th {\n",
              "        vertical-align: top;\n",
              "    }\n",
              "\n",
              "    .dataframe thead th {\n",
              "        text-align: right;\n",
              "    }\n",
              "</style>\n",
              "<table border=\"1\" class=\"dataframe\">\n",
              "  <thead>\n",
              "    <tr style=\"text-align: right;\">\n",
              "      <th></th>\n",
              "      <th>fullVisitorId</th>\n",
              "      <th>VisitNumber</th>\n",
              "      <th>Date</th>\n",
              "      <th>VisitStartTime</th>\n",
              "      <th>bounces</th>\n",
              "      <th>pageviews</th>\n",
              "      <th>timeOnSite</th>\n",
              "      <th>totalTransactionRevenue</th>\n",
              "      <th>transactions</th>\n",
              "      <th>source</th>\n",
              "      <th>medium</th>\n",
              "      <th>campaign</th>\n",
              "      <th>deviceCategory</th>\n",
              "      <th>operatingSystem</th>\n",
              "      <th>mobileDeviceModel</th>\n",
              "      <th>city</th>\n",
              "      <th>ChannelGrouping</th>\n",
              "    </tr>\n",
              "  </thead>\n",
              "  <tbody>\n",
              "    <tr>\n",
              "      <th>0</th>\n",
              "      <td>785078151568671210</td>\n",
              "      <td>1</td>\n",
              "      <td>20170427</td>\n",
              "      <td>1493331229</td>\n",
              "      <td>1.0</td>\n",
              "      <td>1.0</td>\n",
              "      <td>NaN</td>\n",
              "      <td>NaN</td>\n",
              "      <td>NaN</td>\n",
              "      <td>google</td>\n",
              "      <td>organic</td>\n",
              "      <td>(not set)</td>\n",
              "      <td>desktop</td>\n",
              "      <td>Macintosh</td>\n",
              "      <td>not available in demo dataset</td>\n",
              "      <td>Mountain View</td>\n",
              "      <td>Organic Search</td>\n",
              "    </tr>\n",
              "    <tr>\n",
              "      <th>1</th>\n",
              "      <td>142102319075727733</td>\n",
              "      <td>1</td>\n",
              "      <td>20170427</td>\n",
              "      <td>1493316667</td>\n",
              "      <td>1.0</td>\n",
              "      <td>1.0</td>\n",
              "      <td>NaN</td>\n",
              "      <td>NaN</td>\n",
              "      <td>NaN</td>\n",
              "      <td>google</td>\n",
              "      <td>organic</td>\n",
              "      <td>(not set)</td>\n",
              "      <td>desktop</td>\n",
              "      <td>Macintosh</td>\n",
              "      <td>not available in demo dataset</td>\n",
              "      <td>not available in demo dataset</td>\n",
              "      <td>Organic Search</td>\n",
              "    </tr>\n",
              "    <tr>\n",
              "      <th>2</th>\n",
              "      <td>1015855318272495035</td>\n",
              "      <td>1</td>\n",
              "      <td>20170427</td>\n",
              "      <td>1493295075</td>\n",
              "      <td>1.0</td>\n",
              "      <td>1.0</td>\n",
              "      <td>NaN</td>\n",
              "      <td>NaN</td>\n",
              "      <td>NaN</td>\n",
              "      <td>google</td>\n",
              "      <td>organic</td>\n",
              "      <td>(not set)</td>\n",
              "      <td>desktop</td>\n",
              "      <td>Windows</td>\n",
              "      <td>not available in demo dataset</td>\n",
              "      <td>not available in demo dataset</td>\n",
              "      <td>Organic Search</td>\n",
              "    </tr>\n",
              "    <tr>\n",
              "      <th>3</th>\n",
              "      <td>7452646484470618802</td>\n",
              "      <td>1</td>\n",
              "      <td>20170427</td>\n",
              "      <td>1493299324</td>\n",
              "      <td>1.0</td>\n",
              "      <td>1.0</td>\n",
              "      <td>NaN</td>\n",
              "      <td>NaN</td>\n",
              "      <td>NaN</td>\n",
              "      <td>google</td>\n",
              "      <td>organic</td>\n",
              "      <td>(not set)</td>\n",
              "      <td>desktop</td>\n",
              "      <td>Windows</td>\n",
              "      <td>not available in demo dataset</td>\n",
              "      <td>not available in demo dataset</td>\n",
              "      <td>Organic Search</td>\n",
              "    </tr>\n",
              "    <tr>\n",
              "      <th>4</th>\n",
              "      <td>1985244892543433393</td>\n",
              "      <td>3</td>\n",
              "      <td>20170427</td>\n",
              "      <td>1493309497</td>\n",
              "      <td>1.0</td>\n",
              "      <td>1.0</td>\n",
              "      <td>NaN</td>\n",
              "      <td>NaN</td>\n",
              "      <td>NaN</td>\n",
              "      <td>google</td>\n",
              "      <td>organic</td>\n",
              "      <td>(not set)</td>\n",
              "      <td>desktop</td>\n",
              "      <td>Windows</td>\n",
              "      <td>not available in demo dataset</td>\n",
              "      <td>not available in demo dataset</td>\n",
              "      <td>Organic Search</td>\n",
              "    </tr>\n",
              "  </tbody>\n",
              "</table>\n",
              "</div>"
            ],
            "text/plain": [
              "         fullVisitorId  ...  ChannelGrouping\n",
              "0   785078151568671210  ...   Organic Search\n",
              "1   142102319075727733  ...   Organic Search\n",
              "2  1015855318272495035  ...   Organic Search\n",
              "3  7452646484470618802  ...   Organic Search\n",
              "4  1985244892543433393  ...   Organic Search\n",
              "\n",
              "[5 rows x 17 columns]"
            ]
          },
          "metadata": {
            "tags": []
          },
          "execution_count": 8
        }
      ]
    },
    {
      "cell_type": "code",
      "metadata": {
        "colab": {
          "base_uri": "https://localhost:8080/"
        },
        "id": "uayIRu9JpFEz",
        "outputId": "15ffdd68-e03c-43c1-9b94-fb1b62309442"
      },
      "source": [
        "df.shape"
      ],
      "execution_count": 9,
      "outputs": [
        {
          "output_type": "execute_result",
          "data": {
            "text/plain": [
              "(464439, 17)"
            ]
          },
          "metadata": {
            "tags": []
          },
          "execution_count": 9
        }
      ]
    },
    {
      "cell_type": "code",
      "metadata": {
        "colab": {
          "base_uri": "https://localhost:8080/"
        },
        "id": "gB--NC1HpMPR",
        "outputId": "4582be53-b84c-46f9-d0e6-5062c78c0b93"
      },
      "source": [
        "df.info()"
      ],
      "execution_count": 10,
      "outputs": [
        {
          "output_type": "stream",
          "text": [
            "<class 'pandas.core.frame.DataFrame'>\n",
            "RangeIndex: 464439 entries, 0 to 464438\n",
            "Data columns (total 17 columns):\n",
            " #   Column                   Non-Null Count   Dtype  \n",
            "---  ------                   --------------   -----  \n",
            " 0   fullVisitorId            464439 non-null  object \n",
            " 1   VisitNumber              464439 non-null  int64  \n",
            " 2   Date                     464439 non-null  int64  \n",
            " 3   VisitStartTime           464439 non-null  int64  \n",
            " 4   bounces                  232178 non-null  float64\n",
            " 5   pageviews                464387 non-null  float64\n",
            " 6   timeOnSite               231612 non-null  float64\n",
            " 7   totalTransactionRevenue  6308 non-null    float64\n",
            " 8   transactions             6308 non-null    float64\n",
            " 9   source                   464439 non-null  object \n",
            " 10  medium                   464439 non-null  object \n",
            " 11  campaign                 464439 non-null  object \n",
            " 12  deviceCategory           464439 non-null  object \n",
            " 13  operatingSystem          464439 non-null  object \n",
            " 14  mobileDeviceModel        464439 non-null  object \n",
            " 15  city                     464439 non-null  object \n",
            " 16  ChannelGrouping          464439 non-null  object \n",
            "dtypes: float64(5), int64(3), object(9)\n",
            "memory usage: 60.2+ MB\n"
          ],
          "name": "stdout"
        }
      ]
    },
    {
      "cell_type": "code",
      "metadata": {
        "colab": {
          "base_uri": "https://localhost:8080/",
          "height": 295
        },
        "id": "uoF5SDAHpdxN",
        "outputId": "78129d5f-6d3a-4389-f25f-025f75a5fbc4"
      },
      "source": [
        "df.describe()"
      ],
      "execution_count": 11,
      "outputs": [
        {
          "output_type": "execute_result",
          "data": {
            "text/html": [
              "<div>\n",
              "<style scoped>\n",
              "    .dataframe tbody tr th:only-of-type {\n",
              "        vertical-align: middle;\n",
              "    }\n",
              "\n",
              "    .dataframe tbody tr th {\n",
              "        vertical-align: top;\n",
              "    }\n",
              "\n",
              "    .dataframe thead th {\n",
              "        text-align: right;\n",
              "    }\n",
              "</style>\n",
              "<table border=\"1\" class=\"dataframe\">\n",
              "  <thead>\n",
              "    <tr style=\"text-align: right;\">\n",
              "      <th></th>\n",
              "      <th>VisitNumber</th>\n",
              "      <th>Date</th>\n",
              "      <th>VisitStartTime</th>\n",
              "      <th>bounces</th>\n",
              "      <th>pageviews</th>\n",
              "      <th>timeOnSite</th>\n",
              "      <th>totalTransactionRevenue</th>\n",
              "      <th>transactions</th>\n",
              "    </tr>\n",
              "  </thead>\n",
              "  <tbody>\n",
              "    <tr>\n",
              "      <th>count</th>\n",
              "      <td>464439.000000</td>\n",
              "      <td>4.644390e+05</td>\n",
              "      <td>4.644390e+05</td>\n",
              "      <td>232178.0</td>\n",
              "      <td>464387.000000</td>\n",
              "      <td>231612.000000</td>\n",
              "      <td>6.308000e+03</td>\n",
              "      <td>6308.000000</td>\n",
              "    </tr>\n",
              "    <tr>\n",
              "      <th>mean</th>\n",
              "      <td>2.334040</td>\n",
              "      <td>2.017042e+07</td>\n",
              "      <td>1.492485e+09</td>\n",
              "      <td>1.0</td>\n",
              "      <td>3.772011</td>\n",
              "      <td>279.921610</td>\n",
              "      <td>1.617053e+08</td>\n",
              "      <td>1.046449</td>\n",
              "    </tr>\n",
              "    <tr>\n",
              "      <th>std</th>\n",
              "      <td>9.879354</td>\n",
              "      <td>2.006430e+02</td>\n",
              "      <td>5.279611e+06</td>\n",
              "      <td>0.0</td>\n",
              "      <td>6.403579</td>\n",
              "      <td>492.292307</td>\n",
              "      <td>9.034953e+08</td>\n",
              "      <td>0.531457</td>\n",
              "    </tr>\n",
              "    <tr>\n",
              "      <th>min</th>\n",
              "      <td>1.000000</td>\n",
              "      <td>2.017010e+07</td>\n",
              "      <td>1.483258e+09</td>\n",
              "      <td>1.0</td>\n",
              "      <td>1.000000</td>\n",
              "      <td>1.000000</td>\n",
              "      <td>2.200000e+06</td>\n",
              "      <td>1.000000</td>\n",
              "    </tr>\n",
              "    <tr>\n",
              "      <th>25%</th>\n",
              "      <td>1.000000</td>\n",
              "      <td>2.017022e+07</td>\n",
              "      <td>1.487899e+09</td>\n",
              "      <td>1.0</td>\n",
              "      <td>1.000000</td>\n",
              "      <td>33.000000</td>\n",
              "      <td>2.899000e+07</td>\n",
              "      <td>1.000000</td>\n",
              "    </tr>\n",
              "    <tr>\n",
              "      <th>50%</th>\n",
              "      <td>1.000000</td>\n",
              "      <td>2.017042e+07</td>\n",
              "      <td>1.492441e+09</td>\n",
              "      <td>1.0</td>\n",
              "      <td>1.000000</td>\n",
              "      <td>94.000000</td>\n",
              "      <td>5.297500e+07</td>\n",
              "      <td>1.000000</td>\n",
              "    </tr>\n",
              "    <tr>\n",
              "      <th>75%</th>\n",
              "      <td>1.000000</td>\n",
              "      <td>2.017061e+07</td>\n",
              "      <td>1.497075e+09</td>\n",
              "      <td>1.0</td>\n",
              "      <td>4.000000</td>\n",
              "      <td>290.000000</td>\n",
              "      <td>1.119375e+08</td>\n",
              "      <td>1.000000</td>\n",
              "    </tr>\n",
              "    <tr>\n",
              "      <th>max</th>\n",
              "      <td>395.000000</td>\n",
              "      <td>2.017073e+07</td>\n",
              "      <td>1.501571e+09</td>\n",
              "      <td>1.0</td>\n",
              "      <td>466.000000</td>\n",
              "      <td>12136.000000</td>\n",
              "      <td>4.708206e+10</td>\n",
              "      <td>25.000000</td>\n",
              "    </tr>\n",
              "  </tbody>\n",
              "</table>\n",
              "</div>"
            ],
            "text/plain": [
              "         VisitNumber          Date  ...  totalTransactionRevenue  transactions\n",
              "count  464439.000000  4.644390e+05  ...             6.308000e+03   6308.000000\n",
              "mean        2.334040  2.017042e+07  ...             1.617053e+08      1.046449\n",
              "std         9.879354  2.006430e+02  ...             9.034953e+08      0.531457\n",
              "min         1.000000  2.017010e+07  ...             2.200000e+06      1.000000\n",
              "25%         1.000000  2.017022e+07  ...             2.899000e+07      1.000000\n",
              "50%         1.000000  2.017042e+07  ...             5.297500e+07      1.000000\n",
              "75%         1.000000  2.017061e+07  ...             1.119375e+08      1.000000\n",
              "max       395.000000  2.017073e+07  ...             4.708206e+10     25.000000\n",
              "\n",
              "[8 rows x 8 columns]"
            ]
          },
          "metadata": {
            "tags": []
          },
          "execution_count": 11
        }
      ]
    },
    {
      "cell_type": "markdown",
      "metadata": {
        "id": "Ncsk5lT6ppiq"
      },
      "source": [
        "**Data Cleaning**"
      ]
    },
    {
      "cell_type": "markdown",
      "metadata": {
        "id": "5ZPZay4uruFH"
      },
      "source": [
        "1. fullVisitorId : We can assume that the visitor ID information does not impact the transactions, and hence this column can be dropped."
      ]
    },
    {
      "cell_type": "code",
      "metadata": {
        "colab": {
          "base_uri": "https://localhost:8080/",
          "height": 442
        },
        "id": "TJfDGUBmr00X",
        "outputId": "52013af0-449d-4b2e-9a6b-de9e297e51fa"
      },
      "source": [
        "df = df.drop('fullVisitorId', axis=1)\n",
        "df.head()"
      ],
      "execution_count": 12,
      "outputs": [
        {
          "output_type": "execute_result",
          "data": {
            "text/html": [
              "<div>\n",
              "<style scoped>\n",
              "    .dataframe tbody tr th:only-of-type {\n",
              "        vertical-align: middle;\n",
              "    }\n",
              "\n",
              "    .dataframe tbody tr th {\n",
              "        vertical-align: top;\n",
              "    }\n",
              "\n",
              "    .dataframe thead th {\n",
              "        text-align: right;\n",
              "    }\n",
              "</style>\n",
              "<table border=\"1\" class=\"dataframe\">\n",
              "  <thead>\n",
              "    <tr style=\"text-align: right;\">\n",
              "      <th></th>\n",
              "      <th>VisitNumber</th>\n",
              "      <th>Date</th>\n",
              "      <th>VisitStartTime</th>\n",
              "      <th>bounces</th>\n",
              "      <th>pageviews</th>\n",
              "      <th>timeOnSite</th>\n",
              "      <th>totalTransactionRevenue</th>\n",
              "      <th>transactions</th>\n",
              "      <th>source</th>\n",
              "      <th>medium</th>\n",
              "      <th>campaign</th>\n",
              "      <th>deviceCategory</th>\n",
              "      <th>operatingSystem</th>\n",
              "      <th>mobileDeviceModel</th>\n",
              "      <th>city</th>\n",
              "      <th>ChannelGrouping</th>\n",
              "    </tr>\n",
              "  </thead>\n",
              "  <tbody>\n",
              "    <tr>\n",
              "      <th>0</th>\n",
              "      <td>1</td>\n",
              "      <td>20170427</td>\n",
              "      <td>1493331229</td>\n",
              "      <td>1.0</td>\n",
              "      <td>1.0</td>\n",
              "      <td>NaN</td>\n",
              "      <td>NaN</td>\n",
              "      <td>NaN</td>\n",
              "      <td>google</td>\n",
              "      <td>organic</td>\n",
              "      <td>(not set)</td>\n",
              "      <td>desktop</td>\n",
              "      <td>Macintosh</td>\n",
              "      <td>not available in demo dataset</td>\n",
              "      <td>Mountain View</td>\n",
              "      <td>Organic Search</td>\n",
              "    </tr>\n",
              "    <tr>\n",
              "      <th>1</th>\n",
              "      <td>1</td>\n",
              "      <td>20170427</td>\n",
              "      <td>1493316667</td>\n",
              "      <td>1.0</td>\n",
              "      <td>1.0</td>\n",
              "      <td>NaN</td>\n",
              "      <td>NaN</td>\n",
              "      <td>NaN</td>\n",
              "      <td>google</td>\n",
              "      <td>organic</td>\n",
              "      <td>(not set)</td>\n",
              "      <td>desktop</td>\n",
              "      <td>Macintosh</td>\n",
              "      <td>not available in demo dataset</td>\n",
              "      <td>not available in demo dataset</td>\n",
              "      <td>Organic Search</td>\n",
              "    </tr>\n",
              "    <tr>\n",
              "      <th>2</th>\n",
              "      <td>1</td>\n",
              "      <td>20170427</td>\n",
              "      <td>1493295075</td>\n",
              "      <td>1.0</td>\n",
              "      <td>1.0</td>\n",
              "      <td>NaN</td>\n",
              "      <td>NaN</td>\n",
              "      <td>NaN</td>\n",
              "      <td>google</td>\n",
              "      <td>organic</td>\n",
              "      <td>(not set)</td>\n",
              "      <td>desktop</td>\n",
              "      <td>Windows</td>\n",
              "      <td>not available in demo dataset</td>\n",
              "      <td>not available in demo dataset</td>\n",
              "      <td>Organic Search</td>\n",
              "    </tr>\n",
              "    <tr>\n",
              "      <th>3</th>\n",
              "      <td>1</td>\n",
              "      <td>20170427</td>\n",
              "      <td>1493299324</td>\n",
              "      <td>1.0</td>\n",
              "      <td>1.0</td>\n",
              "      <td>NaN</td>\n",
              "      <td>NaN</td>\n",
              "      <td>NaN</td>\n",
              "      <td>google</td>\n",
              "      <td>organic</td>\n",
              "      <td>(not set)</td>\n",
              "      <td>desktop</td>\n",
              "      <td>Windows</td>\n",
              "      <td>not available in demo dataset</td>\n",
              "      <td>not available in demo dataset</td>\n",
              "      <td>Organic Search</td>\n",
              "    </tr>\n",
              "    <tr>\n",
              "      <th>4</th>\n",
              "      <td>3</td>\n",
              "      <td>20170427</td>\n",
              "      <td>1493309497</td>\n",
              "      <td>1.0</td>\n",
              "      <td>1.0</td>\n",
              "      <td>NaN</td>\n",
              "      <td>NaN</td>\n",
              "      <td>NaN</td>\n",
              "      <td>google</td>\n",
              "      <td>organic</td>\n",
              "      <td>(not set)</td>\n",
              "      <td>desktop</td>\n",
              "      <td>Windows</td>\n",
              "      <td>not available in demo dataset</td>\n",
              "      <td>not available in demo dataset</td>\n",
              "      <td>Organic Search</td>\n",
              "    </tr>\n",
              "  </tbody>\n",
              "</table>\n",
              "</div>"
            ],
            "text/plain": [
              "   VisitNumber      Date  ...                           city  ChannelGrouping\n",
              "0            1  20170427  ...                  Mountain View   Organic Search\n",
              "1            1  20170427  ...  not available in demo dataset   Organic Search\n",
              "2            1  20170427  ...  not available in demo dataset   Organic Search\n",
              "3            1  20170427  ...  not available in demo dataset   Organic Search\n",
              "4            3  20170427  ...  not available in demo dataset   Organic Search\n",
              "\n",
              "[5 rows x 16 columns]"
            ]
          },
          "metadata": {
            "tags": []
          },
          "execution_count": 12
        }
      ]
    },
    {
      "cell_type": "markdown",
      "metadata": {
        "id": "7X0DZNJDrEMe"
      },
      "source": [
        "2. VisitNumber : The session(visit) number for individual user."
      ]
    },
    {
      "cell_type": "code",
      "metadata": {
        "colab": {
          "base_uri": "https://localhost:8080/"
        },
        "id": "zlhoHdRYp12T",
        "outputId": "3382a33a-636f-4a5b-c565-c5c716d8c73d"
      },
      "source": [
        "df['VisitNumber'].value_counts()"
      ],
      "execution_count": 13,
      "outputs": [
        {
          "output_type": "execute_result",
          "data": {
            "text/plain": [
              "1      353256\n",
              "2       51792\n",
              "3       19760\n",
              "4       10573\n",
              "5        6417\n",
              "        ...  \n",
              "307         1\n",
              "364         1\n",
              "363         1\n",
              "362         1\n",
              "353         1\n",
              "Name: VisitNumber, Length: 383, dtype: int64"
            ]
          },
          "metadata": {
            "tags": []
          },
          "execution_count": 13
        }
      ]
    },
    {
      "cell_type": "markdown",
      "metadata": {
        "id": "lRlwg59Msg68"
      },
      "source": [
        "3. Date : The date of the session is in YYYYMMDD format. The date info again is repeated in the next column (timestamp), hence the date info is duplicated and this column can be dropped."
      ]
    },
    {
      "cell_type": "code",
      "metadata": {
        "colab": {
          "base_uri": "https://localhost:8080/",
          "height": 442
        },
        "id": "rzdtqGSmtVLw",
        "outputId": "ea781ba8-bf46-4217-817f-acff9115bf47"
      },
      "source": [
        "df = df.drop('Date', axis=1)\n",
        "df.head()"
      ],
      "execution_count": 14,
      "outputs": [
        {
          "output_type": "execute_result",
          "data": {
            "text/html": [
              "<div>\n",
              "<style scoped>\n",
              "    .dataframe tbody tr th:only-of-type {\n",
              "        vertical-align: middle;\n",
              "    }\n",
              "\n",
              "    .dataframe tbody tr th {\n",
              "        vertical-align: top;\n",
              "    }\n",
              "\n",
              "    .dataframe thead th {\n",
              "        text-align: right;\n",
              "    }\n",
              "</style>\n",
              "<table border=\"1\" class=\"dataframe\">\n",
              "  <thead>\n",
              "    <tr style=\"text-align: right;\">\n",
              "      <th></th>\n",
              "      <th>VisitNumber</th>\n",
              "      <th>VisitStartTime</th>\n",
              "      <th>bounces</th>\n",
              "      <th>pageviews</th>\n",
              "      <th>timeOnSite</th>\n",
              "      <th>totalTransactionRevenue</th>\n",
              "      <th>transactions</th>\n",
              "      <th>source</th>\n",
              "      <th>medium</th>\n",
              "      <th>campaign</th>\n",
              "      <th>deviceCategory</th>\n",
              "      <th>operatingSystem</th>\n",
              "      <th>mobileDeviceModel</th>\n",
              "      <th>city</th>\n",
              "      <th>ChannelGrouping</th>\n",
              "    </tr>\n",
              "  </thead>\n",
              "  <tbody>\n",
              "    <tr>\n",
              "      <th>0</th>\n",
              "      <td>1</td>\n",
              "      <td>1493331229</td>\n",
              "      <td>1.0</td>\n",
              "      <td>1.0</td>\n",
              "      <td>NaN</td>\n",
              "      <td>NaN</td>\n",
              "      <td>NaN</td>\n",
              "      <td>google</td>\n",
              "      <td>organic</td>\n",
              "      <td>(not set)</td>\n",
              "      <td>desktop</td>\n",
              "      <td>Macintosh</td>\n",
              "      <td>not available in demo dataset</td>\n",
              "      <td>Mountain View</td>\n",
              "      <td>Organic Search</td>\n",
              "    </tr>\n",
              "    <tr>\n",
              "      <th>1</th>\n",
              "      <td>1</td>\n",
              "      <td>1493316667</td>\n",
              "      <td>1.0</td>\n",
              "      <td>1.0</td>\n",
              "      <td>NaN</td>\n",
              "      <td>NaN</td>\n",
              "      <td>NaN</td>\n",
              "      <td>google</td>\n",
              "      <td>organic</td>\n",
              "      <td>(not set)</td>\n",
              "      <td>desktop</td>\n",
              "      <td>Macintosh</td>\n",
              "      <td>not available in demo dataset</td>\n",
              "      <td>not available in demo dataset</td>\n",
              "      <td>Organic Search</td>\n",
              "    </tr>\n",
              "    <tr>\n",
              "      <th>2</th>\n",
              "      <td>1</td>\n",
              "      <td>1493295075</td>\n",
              "      <td>1.0</td>\n",
              "      <td>1.0</td>\n",
              "      <td>NaN</td>\n",
              "      <td>NaN</td>\n",
              "      <td>NaN</td>\n",
              "      <td>google</td>\n",
              "      <td>organic</td>\n",
              "      <td>(not set)</td>\n",
              "      <td>desktop</td>\n",
              "      <td>Windows</td>\n",
              "      <td>not available in demo dataset</td>\n",
              "      <td>not available in demo dataset</td>\n",
              "      <td>Organic Search</td>\n",
              "    </tr>\n",
              "    <tr>\n",
              "      <th>3</th>\n",
              "      <td>1</td>\n",
              "      <td>1493299324</td>\n",
              "      <td>1.0</td>\n",
              "      <td>1.0</td>\n",
              "      <td>NaN</td>\n",
              "      <td>NaN</td>\n",
              "      <td>NaN</td>\n",
              "      <td>google</td>\n",
              "      <td>organic</td>\n",
              "      <td>(not set)</td>\n",
              "      <td>desktop</td>\n",
              "      <td>Windows</td>\n",
              "      <td>not available in demo dataset</td>\n",
              "      <td>not available in demo dataset</td>\n",
              "      <td>Organic Search</td>\n",
              "    </tr>\n",
              "    <tr>\n",
              "      <th>4</th>\n",
              "      <td>3</td>\n",
              "      <td>1493309497</td>\n",
              "      <td>1.0</td>\n",
              "      <td>1.0</td>\n",
              "      <td>NaN</td>\n",
              "      <td>NaN</td>\n",
              "      <td>NaN</td>\n",
              "      <td>google</td>\n",
              "      <td>organic</td>\n",
              "      <td>(not set)</td>\n",
              "      <td>desktop</td>\n",
              "      <td>Windows</td>\n",
              "      <td>not available in demo dataset</td>\n",
              "      <td>not available in demo dataset</td>\n",
              "      <td>Organic Search</td>\n",
              "    </tr>\n",
              "  </tbody>\n",
              "</table>\n",
              "</div>"
            ],
            "text/plain": [
              "   VisitNumber  VisitStartTime  ...                           city  ChannelGrouping\n",
              "0            1      1493331229  ...                  Mountain View   Organic Search\n",
              "1            1      1493316667  ...  not available in demo dataset   Organic Search\n",
              "2            1      1493295075  ...  not available in demo dataset   Organic Search\n",
              "3            1      1493299324  ...  not available in demo dataset   Organic Search\n",
              "4            3      1493309497  ...  not available in demo dataset   Organic Search\n",
              "\n",
              "[5 rows x 15 columns]"
            ]
          },
          "metadata": {
            "tags": []
          },
          "execution_count": 14
        }
      ]
    },
    {
      "cell_type": "markdown",
      "metadata": {
        "id": "pM0CGH4stqRl"
      },
      "source": [
        "4. VisitStartTime : The timestamp (expressed as POSIX time). We extract Time from VisitStartTime timestamp."
      ]
    },
    {
      "cell_type": "code",
      "metadata": {
        "colab": {
          "base_uri": "https://localhost:8080/",
          "height": 442
        },
        "id": "T28dOB41t1B4",
        "outputId": "1f15eb71-6ab1-4777-ca22-f3352cf49bec"
      },
      "source": [
        "df['VisitStartTime']=pd.to_datetime(df['VisitStartTime'],unit='s')\n",
        "df.head()"
      ],
      "execution_count": 15,
      "outputs": [
        {
          "output_type": "execute_result",
          "data": {
            "text/html": [
              "<div>\n",
              "<style scoped>\n",
              "    .dataframe tbody tr th:only-of-type {\n",
              "        vertical-align: middle;\n",
              "    }\n",
              "\n",
              "    .dataframe tbody tr th {\n",
              "        vertical-align: top;\n",
              "    }\n",
              "\n",
              "    .dataframe thead th {\n",
              "        text-align: right;\n",
              "    }\n",
              "</style>\n",
              "<table border=\"1\" class=\"dataframe\">\n",
              "  <thead>\n",
              "    <tr style=\"text-align: right;\">\n",
              "      <th></th>\n",
              "      <th>VisitNumber</th>\n",
              "      <th>VisitStartTime</th>\n",
              "      <th>bounces</th>\n",
              "      <th>pageviews</th>\n",
              "      <th>timeOnSite</th>\n",
              "      <th>totalTransactionRevenue</th>\n",
              "      <th>transactions</th>\n",
              "      <th>source</th>\n",
              "      <th>medium</th>\n",
              "      <th>campaign</th>\n",
              "      <th>deviceCategory</th>\n",
              "      <th>operatingSystem</th>\n",
              "      <th>mobileDeviceModel</th>\n",
              "      <th>city</th>\n",
              "      <th>ChannelGrouping</th>\n",
              "    </tr>\n",
              "  </thead>\n",
              "  <tbody>\n",
              "    <tr>\n",
              "      <th>0</th>\n",
              "      <td>1</td>\n",
              "      <td>2017-04-27 22:13:49</td>\n",
              "      <td>1.0</td>\n",
              "      <td>1.0</td>\n",
              "      <td>NaN</td>\n",
              "      <td>NaN</td>\n",
              "      <td>NaN</td>\n",
              "      <td>google</td>\n",
              "      <td>organic</td>\n",
              "      <td>(not set)</td>\n",
              "      <td>desktop</td>\n",
              "      <td>Macintosh</td>\n",
              "      <td>not available in demo dataset</td>\n",
              "      <td>Mountain View</td>\n",
              "      <td>Organic Search</td>\n",
              "    </tr>\n",
              "    <tr>\n",
              "      <th>1</th>\n",
              "      <td>1</td>\n",
              "      <td>2017-04-27 18:11:07</td>\n",
              "      <td>1.0</td>\n",
              "      <td>1.0</td>\n",
              "      <td>NaN</td>\n",
              "      <td>NaN</td>\n",
              "      <td>NaN</td>\n",
              "      <td>google</td>\n",
              "      <td>organic</td>\n",
              "      <td>(not set)</td>\n",
              "      <td>desktop</td>\n",
              "      <td>Macintosh</td>\n",
              "      <td>not available in demo dataset</td>\n",
              "      <td>not available in demo dataset</td>\n",
              "      <td>Organic Search</td>\n",
              "    </tr>\n",
              "    <tr>\n",
              "      <th>2</th>\n",
              "      <td>1</td>\n",
              "      <td>2017-04-27 12:11:15</td>\n",
              "      <td>1.0</td>\n",
              "      <td>1.0</td>\n",
              "      <td>NaN</td>\n",
              "      <td>NaN</td>\n",
              "      <td>NaN</td>\n",
              "      <td>google</td>\n",
              "      <td>organic</td>\n",
              "      <td>(not set)</td>\n",
              "      <td>desktop</td>\n",
              "      <td>Windows</td>\n",
              "      <td>not available in demo dataset</td>\n",
              "      <td>not available in demo dataset</td>\n",
              "      <td>Organic Search</td>\n",
              "    </tr>\n",
              "    <tr>\n",
              "      <th>3</th>\n",
              "      <td>1</td>\n",
              "      <td>2017-04-27 13:22:04</td>\n",
              "      <td>1.0</td>\n",
              "      <td>1.0</td>\n",
              "      <td>NaN</td>\n",
              "      <td>NaN</td>\n",
              "      <td>NaN</td>\n",
              "      <td>google</td>\n",
              "      <td>organic</td>\n",
              "      <td>(not set)</td>\n",
              "      <td>desktop</td>\n",
              "      <td>Windows</td>\n",
              "      <td>not available in demo dataset</td>\n",
              "      <td>not available in demo dataset</td>\n",
              "      <td>Organic Search</td>\n",
              "    </tr>\n",
              "    <tr>\n",
              "      <th>4</th>\n",
              "      <td>3</td>\n",
              "      <td>2017-04-27 16:11:37</td>\n",
              "      <td>1.0</td>\n",
              "      <td>1.0</td>\n",
              "      <td>NaN</td>\n",
              "      <td>NaN</td>\n",
              "      <td>NaN</td>\n",
              "      <td>google</td>\n",
              "      <td>organic</td>\n",
              "      <td>(not set)</td>\n",
              "      <td>desktop</td>\n",
              "      <td>Windows</td>\n",
              "      <td>not available in demo dataset</td>\n",
              "      <td>not available in demo dataset</td>\n",
              "      <td>Organic Search</td>\n",
              "    </tr>\n",
              "  </tbody>\n",
              "</table>\n",
              "</div>"
            ],
            "text/plain": [
              "   VisitNumber  ... ChannelGrouping\n",
              "0            1  ...  Organic Search\n",
              "1            1  ...  Organic Search\n",
              "2            1  ...  Organic Search\n",
              "3            1  ...  Organic Search\n",
              "4            3  ...  Organic Search\n",
              "\n",
              "[5 rows x 15 columns]"
            ]
          },
          "metadata": {
            "tags": []
          },
          "execution_count": 15
        }
      ]
    },
    {
      "cell_type": "markdown",
      "metadata": {
        "id": "_hc7JQxhwC4I"
      },
      "source": [
        "5. bounces : For a bounced session, the value is 1, otherwise it is null. We replace all NaN values in this column with 0."
      ]
    },
    {
      "cell_type": "code",
      "metadata": {
        "colab": {
          "base_uri": "https://localhost:8080/",
          "height": 442
        },
        "id": "pe3nJl7Lwpyh",
        "outputId": "ef317ed0-1cf7-4986-8209-a1455260b879"
      },
      "source": [
        "df['bounces'].fillna(0,inplace=True)\n",
        "df.head()"
      ],
      "execution_count": 16,
      "outputs": [
        {
          "output_type": "execute_result",
          "data": {
            "text/html": [
              "<div>\n",
              "<style scoped>\n",
              "    .dataframe tbody tr th:only-of-type {\n",
              "        vertical-align: middle;\n",
              "    }\n",
              "\n",
              "    .dataframe tbody tr th {\n",
              "        vertical-align: top;\n",
              "    }\n",
              "\n",
              "    .dataframe thead th {\n",
              "        text-align: right;\n",
              "    }\n",
              "</style>\n",
              "<table border=\"1\" class=\"dataframe\">\n",
              "  <thead>\n",
              "    <tr style=\"text-align: right;\">\n",
              "      <th></th>\n",
              "      <th>VisitNumber</th>\n",
              "      <th>VisitStartTime</th>\n",
              "      <th>bounces</th>\n",
              "      <th>pageviews</th>\n",
              "      <th>timeOnSite</th>\n",
              "      <th>totalTransactionRevenue</th>\n",
              "      <th>transactions</th>\n",
              "      <th>source</th>\n",
              "      <th>medium</th>\n",
              "      <th>campaign</th>\n",
              "      <th>deviceCategory</th>\n",
              "      <th>operatingSystem</th>\n",
              "      <th>mobileDeviceModel</th>\n",
              "      <th>city</th>\n",
              "      <th>ChannelGrouping</th>\n",
              "    </tr>\n",
              "  </thead>\n",
              "  <tbody>\n",
              "    <tr>\n",
              "      <th>0</th>\n",
              "      <td>1</td>\n",
              "      <td>2017-04-27 22:13:49</td>\n",
              "      <td>1.0</td>\n",
              "      <td>1.0</td>\n",
              "      <td>NaN</td>\n",
              "      <td>NaN</td>\n",
              "      <td>NaN</td>\n",
              "      <td>google</td>\n",
              "      <td>organic</td>\n",
              "      <td>(not set)</td>\n",
              "      <td>desktop</td>\n",
              "      <td>Macintosh</td>\n",
              "      <td>not available in demo dataset</td>\n",
              "      <td>Mountain View</td>\n",
              "      <td>Organic Search</td>\n",
              "    </tr>\n",
              "    <tr>\n",
              "      <th>1</th>\n",
              "      <td>1</td>\n",
              "      <td>2017-04-27 18:11:07</td>\n",
              "      <td>1.0</td>\n",
              "      <td>1.0</td>\n",
              "      <td>NaN</td>\n",
              "      <td>NaN</td>\n",
              "      <td>NaN</td>\n",
              "      <td>google</td>\n",
              "      <td>organic</td>\n",
              "      <td>(not set)</td>\n",
              "      <td>desktop</td>\n",
              "      <td>Macintosh</td>\n",
              "      <td>not available in demo dataset</td>\n",
              "      <td>not available in demo dataset</td>\n",
              "      <td>Organic Search</td>\n",
              "    </tr>\n",
              "    <tr>\n",
              "      <th>2</th>\n",
              "      <td>1</td>\n",
              "      <td>2017-04-27 12:11:15</td>\n",
              "      <td>1.0</td>\n",
              "      <td>1.0</td>\n",
              "      <td>NaN</td>\n",
              "      <td>NaN</td>\n",
              "      <td>NaN</td>\n",
              "      <td>google</td>\n",
              "      <td>organic</td>\n",
              "      <td>(not set)</td>\n",
              "      <td>desktop</td>\n",
              "      <td>Windows</td>\n",
              "      <td>not available in demo dataset</td>\n",
              "      <td>not available in demo dataset</td>\n",
              "      <td>Organic Search</td>\n",
              "    </tr>\n",
              "    <tr>\n",
              "      <th>3</th>\n",
              "      <td>1</td>\n",
              "      <td>2017-04-27 13:22:04</td>\n",
              "      <td>1.0</td>\n",
              "      <td>1.0</td>\n",
              "      <td>NaN</td>\n",
              "      <td>NaN</td>\n",
              "      <td>NaN</td>\n",
              "      <td>google</td>\n",
              "      <td>organic</td>\n",
              "      <td>(not set)</td>\n",
              "      <td>desktop</td>\n",
              "      <td>Windows</td>\n",
              "      <td>not available in demo dataset</td>\n",
              "      <td>not available in demo dataset</td>\n",
              "      <td>Organic Search</td>\n",
              "    </tr>\n",
              "    <tr>\n",
              "      <th>4</th>\n",
              "      <td>3</td>\n",
              "      <td>2017-04-27 16:11:37</td>\n",
              "      <td>1.0</td>\n",
              "      <td>1.0</td>\n",
              "      <td>NaN</td>\n",
              "      <td>NaN</td>\n",
              "      <td>NaN</td>\n",
              "      <td>google</td>\n",
              "      <td>organic</td>\n",
              "      <td>(not set)</td>\n",
              "      <td>desktop</td>\n",
              "      <td>Windows</td>\n",
              "      <td>not available in demo dataset</td>\n",
              "      <td>not available in demo dataset</td>\n",
              "      <td>Organic Search</td>\n",
              "    </tr>\n",
              "  </tbody>\n",
              "</table>\n",
              "</div>"
            ],
            "text/plain": [
              "   VisitNumber  ... ChannelGrouping\n",
              "0            1  ...  Organic Search\n",
              "1            1  ...  Organic Search\n",
              "2            1  ...  Organic Search\n",
              "3            1  ...  Organic Search\n",
              "4            3  ...  Organic Search\n",
              "\n",
              "[5 rows x 15 columns]"
            ]
          },
          "metadata": {
            "tags": []
          },
          "execution_count": 16
        }
      ]
    },
    {
      "cell_type": "code",
      "metadata": {
        "colab": {
          "base_uri": "https://localhost:8080/"
        },
        "id": "XkPzvouCwyIG",
        "outputId": "2960e2e4-3184-40de-bfbd-be30dc121f63"
      },
      "source": [
        "df['bounces'].value_counts()"
      ],
      "execution_count": 17,
      "outputs": [
        {
          "output_type": "execute_result",
          "data": {
            "text/plain": [
              "0.0    232261\n",
              "1.0    232178\n",
              "Name: bounces, dtype: int64"
            ]
          },
          "metadata": {
            "tags": []
          },
          "execution_count": 17
        }
      ]
    },
    {
      "cell_type": "markdown",
      "metadata": {
        "id": "Xs8WavF4xkru"
      },
      "source": [
        "6. pageviews : Total number of pageviews within the session. If a user has no page views,there will be no transaction. Hence we replace the NaN values in this column with 0."
      ]
    },
    {
      "cell_type": "code",
      "metadata": {
        "colab": {
          "base_uri": "https://localhost:8080/",
          "height": 442
        },
        "id": "cbpp5ZHOx3K0",
        "outputId": "425ea857-2fda-4cff-c923-c385310a02db"
      },
      "source": [
        "df['pageviews'].fillna(0,inplace=True)\n",
        "df.head()"
      ],
      "execution_count": 18,
      "outputs": [
        {
          "output_type": "execute_result",
          "data": {
            "text/html": [
              "<div>\n",
              "<style scoped>\n",
              "    .dataframe tbody tr th:only-of-type {\n",
              "        vertical-align: middle;\n",
              "    }\n",
              "\n",
              "    .dataframe tbody tr th {\n",
              "        vertical-align: top;\n",
              "    }\n",
              "\n",
              "    .dataframe thead th {\n",
              "        text-align: right;\n",
              "    }\n",
              "</style>\n",
              "<table border=\"1\" class=\"dataframe\">\n",
              "  <thead>\n",
              "    <tr style=\"text-align: right;\">\n",
              "      <th></th>\n",
              "      <th>VisitNumber</th>\n",
              "      <th>VisitStartTime</th>\n",
              "      <th>bounces</th>\n",
              "      <th>pageviews</th>\n",
              "      <th>timeOnSite</th>\n",
              "      <th>totalTransactionRevenue</th>\n",
              "      <th>transactions</th>\n",
              "      <th>source</th>\n",
              "      <th>medium</th>\n",
              "      <th>campaign</th>\n",
              "      <th>deviceCategory</th>\n",
              "      <th>operatingSystem</th>\n",
              "      <th>mobileDeviceModel</th>\n",
              "      <th>city</th>\n",
              "      <th>ChannelGrouping</th>\n",
              "    </tr>\n",
              "  </thead>\n",
              "  <tbody>\n",
              "    <tr>\n",
              "      <th>0</th>\n",
              "      <td>1</td>\n",
              "      <td>2017-04-27 22:13:49</td>\n",
              "      <td>1.0</td>\n",
              "      <td>1.0</td>\n",
              "      <td>NaN</td>\n",
              "      <td>NaN</td>\n",
              "      <td>NaN</td>\n",
              "      <td>google</td>\n",
              "      <td>organic</td>\n",
              "      <td>(not set)</td>\n",
              "      <td>desktop</td>\n",
              "      <td>Macintosh</td>\n",
              "      <td>not available in demo dataset</td>\n",
              "      <td>Mountain View</td>\n",
              "      <td>Organic Search</td>\n",
              "    </tr>\n",
              "    <tr>\n",
              "      <th>1</th>\n",
              "      <td>1</td>\n",
              "      <td>2017-04-27 18:11:07</td>\n",
              "      <td>1.0</td>\n",
              "      <td>1.0</td>\n",
              "      <td>NaN</td>\n",
              "      <td>NaN</td>\n",
              "      <td>NaN</td>\n",
              "      <td>google</td>\n",
              "      <td>organic</td>\n",
              "      <td>(not set)</td>\n",
              "      <td>desktop</td>\n",
              "      <td>Macintosh</td>\n",
              "      <td>not available in demo dataset</td>\n",
              "      <td>not available in demo dataset</td>\n",
              "      <td>Organic Search</td>\n",
              "    </tr>\n",
              "    <tr>\n",
              "      <th>2</th>\n",
              "      <td>1</td>\n",
              "      <td>2017-04-27 12:11:15</td>\n",
              "      <td>1.0</td>\n",
              "      <td>1.0</td>\n",
              "      <td>NaN</td>\n",
              "      <td>NaN</td>\n",
              "      <td>NaN</td>\n",
              "      <td>google</td>\n",
              "      <td>organic</td>\n",
              "      <td>(not set)</td>\n",
              "      <td>desktop</td>\n",
              "      <td>Windows</td>\n",
              "      <td>not available in demo dataset</td>\n",
              "      <td>not available in demo dataset</td>\n",
              "      <td>Organic Search</td>\n",
              "    </tr>\n",
              "    <tr>\n",
              "      <th>3</th>\n",
              "      <td>1</td>\n",
              "      <td>2017-04-27 13:22:04</td>\n",
              "      <td>1.0</td>\n",
              "      <td>1.0</td>\n",
              "      <td>NaN</td>\n",
              "      <td>NaN</td>\n",
              "      <td>NaN</td>\n",
              "      <td>google</td>\n",
              "      <td>organic</td>\n",
              "      <td>(not set)</td>\n",
              "      <td>desktop</td>\n",
              "      <td>Windows</td>\n",
              "      <td>not available in demo dataset</td>\n",
              "      <td>not available in demo dataset</td>\n",
              "      <td>Organic Search</td>\n",
              "    </tr>\n",
              "    <tr>\n",
              "      <th>4</th>\n",
              "      <td>3</td>\n",
              "      <td>2017-04-27 16:11:37</td>\n",
              "      <td>1.0</td>\n",
              "      <td>1.0</td>\n",
              "      <td>NaN</td>\n",
              "      <td>NaN</td>\n",
              "      <td>NaN</td>\n",
              "      <td>google</td>\n",
              "      <td>organic</td>\n",
              "      <td>(not set)</td>\n",
              "      <td>desktop</td>\n",
              "      <td>Windows</td>\n",
              "      <td>not available in demo dataset</td>\n",
              "      <td>not available in demo dataset</td>\n",
              "      <td>Organic Search</td>\n",
              "    </tr>\n",
              "  </tbody>\n",
              "</table>\n",
              "</div>"
            ],
            "text/plain": [
              "   VisitNumber  ... ChannelGrouping\n",
              "0            1  ...  Organic Search\n",
              "1            1  ...  Organic Search\n",
              "2            1  ...  Organic Search\n",
              "3            1  ...  Organic Search\n",
              "4            3  ...  Organic Search\n",
              "\n",
              "[5 rows x 15 columns]"
            ]
          },
          "metadata": {
            "tags": []
          },
          "execution_count": 18
        }
      ]
    },
    {
      "cell_type": "markdown",
      "metadata": {
        "id": "alteAkzSyIFD"
      },
      "source": [
        "7. timeOnSite : Total time of the session expressed in seconds.If a user has no total time on site,there will be no transaction. Hence we replace the NaN values in this column with 0."
      ]
    },
    {
      "cell_type": "code",
      "metadata": {
        "colab": {
          "base_uri": "https://localhost:8080/",
          "height": 442
        },
        "id": "LSZE0nYDyQcc",
        "outputId": "2f2d8f38-c332-46d5-9fbf-d2a75e6d1b9d"
      },
      "source": [
        "df['timeOnSite'].fillna(0,inplace=True)\n",
        "df.head()"
      ],
      "execution_count": 19,
      "outputs": [
        {
          "output_type": "execute_result",
          "data": {
            "text/html": [
              "<div>\n",
              "<style scoped>\n",
              "    .dataframe tbody tr th:only-of-type {\n",
              "        vertical-align: middle;\n",
              "    }\n",
              "\n",
              "    .dataframe tbody tr th {\n",
              "        vertical-align: top;\n",
              "    }\n",
              "\n",
              "    .dataframe thead th {\n",
              "        text-align: right;\n",
              "    }\n",
              "</style>\n",
              "<table border=\"1\" class=\"dataframe\">\n",
              "  <thead>\n",
              "    <tr style=\"text-align: right;\">\n",
              "      <th></th>\n",
              "      <th>VisitNumber</th>\n",
              "      <th>VisitStartTime</th>\n",
              "      <th>bounces</th>\n",
              "      <th>pageviews</th>\n",
              "      <th>timeOnSite</th>\n",
              "      <th>totalTransactionRevenue</th>\n",
              "      <th>transactions</th>\n",
              "      <th>source</th>\n",
              "      <th>medium</th>\n",
              "      <th>campaign</th>\n",
              "      <th>deviceCategory</th>\n",
              "      <th>operatingSystem</th>\n",
              "      <th>mobileDeviceModel</th>\n",
              "      <th>city</th>\n",
              "      <th>ChannelGrouping</th>\n",
              "    </tr>\n",
              "  </thead>\n",
              "  <tbody>\n",
              "    <tr>\n",
              "      <th>0</th>\n",
              "      <td>1</td>\n",
              "      <td>2017-04-27 22:13:49</td>\n",
              "      <td>1.0</td>\n",
              "      <td>1.0</td>\n",
              "      <td>0.0</td>\n",
              "      <td>NaN</td>\n",
              "      <td>NaN</td>\n",
              "      <td>google</td>\n",
              "      <td>organic</td>\n",
              "      <td>(not set)</td>\n",
              "      <td>desktop</td>\n",
              "      <td>Macintosh</td>\n",
              "      <td>not available in demo dataset</td>\n",
              "      <td>Mountain View</td>\n",
              "      <td>Organic Search</td>\n",
              "    </tr>\n",
              "    <tr>\n",
              "      <th>1</th>\n",
              "      <td>1</td>\n",
              "      <td>2017-04-27 18:11:07</td>\n",
              "      <td>1.0</td>\n",
              "      <td>1.0</td>\n",
              "      <td>0.0</td>\n",
              "      <td>NaN</td>\n",
              "      <td>NaN</td>\n",
              "      <td>google</td>\n",
              "      <td>organic</td>\n",
              "      <td>(not set)</td>\n",
              "      <td>desktop</td>\n",
              "      <td>Macintosh</td>\n",
              "      <td>not available in demo dataset</td>\n",
              "      <td>not available in demo dataset</td>\n",
              "      <td>Organic Search</td>\n",
              "    </tr>\n",
              "    <tr>\n",
              "      <th>2</th>\n",
              "      <td>1</td>\n",
              "      <td>2017-04-27 12:11:15</td>\n",
              "      <td>1.0</td>\n",
              "      <td>1.0</td>\n",
              "      <td>0.0</td>\n",
              "      <td>NaN</td>\n",
              "      <td>NaN</td>\n",
              "      <td>google</td>\n",
              "      <td>organic</td>\n",
              "      <td>(not set)</td>\n",
              "      <td>desktop</td>\n",
              "      <td>Windows</td>\n",
              "      <td>not available in demo dataset</td>\n",
              "      <td>not available in demo dataset</td>\n",
              "      <td>Organic Search</td>\n",
              "    </tr>\n",
              "    <tr>\n",
              "      <th>3</th>\n",
              "      <td>1</td>\n",
              "      <td>2017-04-27 13:22:04</td>\n",
              "      <td>1.0</td>\n",
              "      <td>1.0</td>\n",
              "      <td>0.0</td>\n",
              "      <td>NaN</td>\n",
              "      <td>NaN</td>\n",
              "      <td>google</td>\n",
              "      <td>organic</td>\n",
              "      <td>(not set)</td>\n",
              "      <td>desktop</td>\n",
              "      <td>Windows</td>\n",
              "      <td>not available in demo dataset</td>\n",
              "      <td>not available in demo dataset</td>\n",
              "      <td>Organic Search</td>\n",
              "    </tr>\n",
              "    <tr>\n",
              "      <th>4</th>\n",
              "      <td>3</td>\n",
              "      <td>2017-04-27 16:11:37</td>\n",
              "      <td>1.0</td>\n",
              "      <td>1.0</td>\n",
              "      <td>0.0</td>\n",
              "      <td>NaN</td>\n",
              "      <td>NaN</td>\n",
              "      <td>google</td>\n",
              "      <td>organic</td>\n",
              "      <td>(not set)</td>\n",
              "      <td>desktop</td>\n",
              "      <td>Windows</td>\n",
              "      <td>not available in demo dataset</td>\n",
              "      <td>not available in demo dataset</td>\n",
              "      <td>Organic Search</td>\n",
              "    </tr>\n",
              "  </tbody>\n",
              "</table>\n",
              "</div>"
            ],
            "text/plain": [
              "   VisitNumber  ... ChannelGrouping\n",
              "0            1  ...  Organic Search\n",
              "1            1  ...  Organic Search\n",
              "2            1  ...  Organic Search\n",
              "3            1  ...  Organic Search\n",
              "4            3  ...  Organic Search\n",
              "\n",
              "[5 rows x 15 columns]"
            ]
          },
          "metadata": {
            "tags": []
          },
          "execution_count": 19
        }
      ]
    },
    {
      "cell_type": "markdown",
      "metadata": {
        "id": "E2-fnclyyXQQ"
      },
      "source": [
        "8. totalTransactionRevenue : Total transaction revenue, expressed as the value passed to Analytics multiplied by 10^6 (e.g., 2.40 would be given as 2400000).\n",
        "Here we note that 'totalTransactionRevenue' and 'totals_transactions' are related columns. If 'transactions' has null value, then the corresponding 'totalTransactionRevenue' column should also have a null value, and vice-versa."
      ]
    },
    {
      "cell_type": "markdown",
      "metadata": {
        "id": "dpIA4wZRZAv3"
      },
      "source": [
        "We therefore need to check these two columns for the following conditions:\n",
        "\n",
        "If there are any 'transactions' null values where the corresponding 'totalTransactionRevenue' value is not null.\n",
        "\n",
        "If there are any 'totalTransactionRevenue' null values where the corresponding 'transactions' value is not null."
      ]
    },
    {
      "cell_type": "code",
      "metadata": {
        "id": "P2B_h1KiZNH5"
      },
      "source": [
        "df['diff'] = df.totalTransactionRevenue.eq(pd.to_numeric(df.transactions, errors='coerce'))"
      ],
      "execution_count": 20,
      "outputs": []
    },
    {
      "cell_type": "code",
      "metadata": {
        "colab": {
          "base_uri": "https://localhost:8080/"
        },
        "id": "ujqBXGR4ZXr1",
        "outputId": "44eb1030-a2e6-4db6-ea7e-d40aa6745435"
      },
      "source": [
        "df['diff'].value_counts()"
      ],
      "execution_count": 21,
      "outputs": [
        {
          "output_type": "execute_result",
          "data": {
            "text/plain": [
              "False    464439\n",
              "Name: diff, dtype: int64"
            ]
          },
          "metadata": {
            "tags": []
          },
          "execution_count": 21
        }
      ]
    },
    {
      "cell_type": "markdown",
      "metadata": {
        "id": "D--101ESZgPt"
      },
      "source": [
        "If a user has no transaction revenue, there will be no transaction. We replace all NaN values in this column with 0"
      ]
    },
    {
      "cell_type": "code",
      "metadata": {
        "colab": {
          "base_uri": "https://localhost:8080/"
        },
        "id": "r8E4c43iZfEh",
        "outputId": "882f796d-7b7c-4872-8cc3-2151871e1157"
      },
      "source": [
        "df['totalTransactionRevenue'].value_counts()"
      ],
      "execution_count": 22,
      "outputs": [
        {
          "output_type": "execute_result",
          "data": {
            "text/plain": [
              "23990000.0    49\n",
              "22990000.0    48\n",
              "25990000.0    46\n",
              "21990000.0    44\n",
              "24990000.0    41\n",
              "              ..\n",
              "24720000.0     1\n",
              "98870000.0     1\n",
              "61790000.0     1\n",
              "98830000.0     1\n",
              "24150000.0     1\n",
              "Name: totalTransactionRevenue, Length: 3695, dtype: int64"
            ]
          },
          "metadata": {
            "tags": []
          },
          "execution_count": 22
        }
      ]
    },
    {
      "cell_type": "code",
      "metadata": {
        "colab": {
          "base_uri": "https://localhost:8080/",
          "height": 442
        },
        "id": "Ng8AyEESZ75B",
        "outputId": "14c5f463-8ef3-4d61-d057-8cdf5218b578"
      },
      "source": [
        "df['totalTransactionRevenue'].fillna(0,inplace=True)\n",
        "df.head()"
      ],
      "execution_count": 23,
      "outputs": [
        {
          "output_type": "execute_result",
          "data": {
            "text/html": [
              "<div>\n",
              "<style scoped>\n",
              "    .dataframe tbody tr th:only-of-type {\n",
              "        vertical-align: middle;\n",
              "    }\n",
              "\n",
              "    .dataframe tbody tr th {\n",
              "        vertical-align: top;\n",
              "    }\n",
              "\n",
              "    .dataframe thead th {\n",
              "        text-align: right;\n",
              "    }\n",
              "</style>\n",
              "<table border=\"1\" class=\"dataframe\">\n",
              "  <thead>\n",
              "    <tr style=\"text-align: right;\">\n",
              "      <th></th>\n",
              "      <th>VisitNumber</th>\n",
              "      <th>VisitStartTime</th>\n",
              "      <th>bounces</th>\n",
              "      <th>pageviews</th>\n",
              "      <th>timeOnSite</th>\n",
              "      <th>totalTransactionRevenue</th>\n",
              "      <th>transactions</th>\n",
              "      <th>source</th>\n",
              "      <th>medium</th>\n",
              "      <th>campaign</th>\n",
              "      <th>deviceCategory</th>\n",
              "      <th>operatingSystem</th>\n",
              "      <th>mobileDeviceModel</th>\n",
              "      <th>city</th>\n",
              "      <th>ChannelGrouping</th>\n",
              "      <th>diff</th>\n",
              "    </tr>\n",
              "  </thead>\n",
              "  <tbody>\n",
              "    <tr>\n",
              "      <th>0</th>\n",
              "      <td>1</td>\n",
              "      <td>2017-04-27 22:13:49</td>\n",
              "      <td>1.0</td>\n",
              "      <td>1.0</td>\n",
              "      <td>0.0</td>\n",
              "      <td>0.0</td>\n",
              "      <td>NaN</td>\n",
              "      <td>google</td>\n",
              "      <td>organic</td>\n",
              "      <td>(not set)</td>\n",
              "      <td>desktop</td>\n",
              "      <td>Macintosh</td>\n",
              "      <td>not available in demo dataset</td>\n",
              "      <td>Mountain View</td>\n",
              "      <td>Organic Search</td>\n",
              "      <td>False</td>\n",
              "    </tr>\n",
              "    <tr>\n",
              "      <th>1</th>\n",
              "      <td>1</td>\n",
              "      <td>2017-04-27 18:11:07</td>\n",
              "      <td>1.0</td>\n",
              "      <td>1.0</td>\n",
              "      <td>0.0</td>\n",
              "      <td>0.0</td>\n",
              "      <td>NaN</td>\n",
              "      <td>google</td>\n",
              "      <td>organic</td>\n",
              "      <td>(not set)</td>\n",
              "      <td>desktop</td>\n",
              "      <td>Macintosh</td>\n",
              "      <td>not available in demo dataset</td>\n",
              "      <td>not available in demo dataset</td>\n",
              "      <td>Organic Search</td>\n",
              "      <td>False</td>\n",
              "    </tr>\n",
              "    <tr>\n",
              "      <th>2</th>\n",
              "      <td>1</td>\n",
              "      <td>2017-04-27 12:11:15</td>\n",
              "      <td>1.0</td>\n",
              "      <td>1.0</td>\n",
              "      <td>0.0</td>\n",
              "      <td>0.0</td>\n",
              "      <td>NaN</td>\n",
              "      <td>google</td>\n",
              "      <td>organic</td>\n",
              "      <td>(not set)</td>\n",
              "      <td>desktop</td>\n",
              "      <td>Windows</td>\n",
              "      <td>not available in demo dataset</td>\n",
              "      <td>not available in demo dataset</td>\n",
              "      <td>Organic Search</td>\n",
              "      <td>False</td>\n",
              "    </tr>\n",
              "    <tr>\n",
              "      <th>3</th>\n",
              "      <td>1</td>\n",
              "      <td>2017-04-27 13:22:04</td>\n",
              "      <td>1.0</td>\n",
              "      <td>1.0</td>\n",
              "      <td>0.0</td>\n",
              "      <td>0.0</td>\n",
              "      <td>NaN</td>\n",
              "      <td>google</td>\n",
              "      <td>organic</td>\n",
              "      <td>(not set)</td>\n",
              "      <td>desktop</td>\n",
              "      <td>Windows</td>\n",
              "      <td>not available in demo dataset</td>\n",
              "      <td>not available in demo dataset</td>\n",
              "      <td>Organic Search</td>\n",
              "      <td>False</td>\n",
              "    </tr>\n",
              "    <tr>\n",
              "      <th>4</th>\n",
              "      <td>3</td>\n",
              "      <td>2017-04-27 16:11:37</td>\n",
              "      <td>1.0</td>\n",
              "      <td>1.0</td>\n",
              "      <td>0.0</td>\n",
              "      <td>0.0</td>\n",
              "      <td>NaN</td>\n",
              "      <td>google</td>\n",
              "      <td>organic</td>\n",
              "      <td>(not set)</td>\n",
              "      <td>desktop</td>\n",
              "      <td>Windows</td>\n",
              "      <td>not available in demo dataset</td>\n",
              "      <td>not available in demo dataset</td>\n",
              "      <td>Organic Search</td>\n",
              "      <td>False</td>\n",
              "    </tr>\n",
              "  </tbody>\n",
              "</table>\n",
              "</div>"
            ],
            "text/plain": [
              "   VisitNumber      VisitStartTime  ...  ChannelGrouping   diff\n",
              "0            1 2017-04-27 22:13:49  ...   Organic Search  False\n",
              "1            1 2017-04-27 18:11:07  ...   Organic Search  False\n",
              "2            1 2017-04-27 12:11:15  ...   Organic Search  False\n",
              "3            1 2017-04-27 13:22:04  ...   Organic Search  False\n",
              "4            3 2017-04-27 16:11:37  ...   Organic Search  False\n",
              "\n",
              "[5 rows x 16 columns]"
            ]
          },
          "metadata": {
            "tags": []
          },
          "execution_count": 23
        }
      ]
    },
    {
      "cell_type": "markdown",
      "metadata": {
        "id": "ZiqEHA8zaE9v"
      },
      "source": [
        "9. transactions: Total number of ecommerce transactions within the session.\n",
        "The missing values for transactions we can consider as 0 (no transaction), hence we replace all NaN values in this column with 0"
      ]
    },
    {
      "cell_type": "code",
      "metadata": {
        "colab": {
          "base_uri": "https://localhost:8080/",
          "height": 442
        },
        "id": "DMxBnwnmaTw9",
        "outputId": "6f4a5e2d-e02a-4d8f-dff3-fc4e106e8cf5"
      },
      "source": [
        "df['transactions'].fillna(0,inplace=True)\n",
        "df.head()"
      ],
      "execution_count": 24,
      "outputs": [
        {
          "output_type": "execute_result",
          "data": {
            "text/html": [
              "<div>\n",
              "<style scoped>\n",
              "    .dataframe tbody tr th:only-of-type {\n",
              "        vertical-align: middle;\n",
              "    }\n",
              "\n",
              "    .dataframe tbody tr th {\n",
              "        vertical-align: top;\n",
              "    }\n",
              "\n",
              "    .dataframe thead th {\n",
              "        text-align: right;\n",
              "    }\n",
              "</style>\n",
              "<table border=\"1\" class=\"dataframe\">\n",
              "  <thead>\n",
              "    <tr style=\"text-align: right;\">\n",
              "      <th></th>\n",
              "      <th>VisitNumber</th>\n",
              "      <th>VisitStartTime</th>\n",
              "      <th>bounces</th>\n",
              "      <th>pageviews</th>\n",
              "      <th>timeOnSite</th>\n",
              "      <th>totalTransactionRevenue</th>\n",
              "      <th>transactions</th>\n",
              "      <th>source</th>\n",
              "      <th>medium</th>\n",
              "      <th>campaign</th>\n",
              "      <th>deviceCategory</th>\n",
              "      <th>operatingSystem</th>\n",
              "      <th>mobileDeviceModel</th>\n",
              "      <th>city</th>\n",
              "      <th>ChannelGrouping</th>\n",
              "      <th>diff</th>\n",
              "    </tr>\n",
              "  </thead>\n",
              "  <tbody>\n",
              "    <tr>\n",
              "      <th>0</th>\n",
              "      <td>1</td>\n",
              "      <td>2017-04-27 22:13:49</td>\n",
              "      <td>1.0</td>\n",
              "      <td>1.0</td>\n",
              "      <td>0.0</td>\n",
              "      <td>0.0</td>\n",
              "      <td>0.0</td>\n",
              "      <td>google</td>\n",
              "      <td>organic</td>\n",
              "      <td>(not set)</td>\n",
              "      <td>desktop</td>\n",
              "      <td>Macintosh</td>\n",
              "      <td>not available in demo dataset</td>\n",
              "      <td>Mountain View</td>\n",
              "      <td>Organic Search</td>\n",
              "      <td>False</td>\n",
              "    </tr>\n",
              "    <tr>\n",
              "      <th>1</th>\n",
              "      <td>1</td>\n",
              "      <td>2017-04-27 18:11:07</td>\n",
              "      <td>1.0</td>\n",
              "      <td>1.0</td>\n",
              "      <td>0.0</td>\n",
              "      <td>0.0</td>\n",
              "      <td>0.0</td>\n",
              "      <td>google</td>\n",
              "      <td>organic</td>\n",
              "      <td>(not set)</td>\n",
              "      <td>desktop</td>\n",
              "      <td>Macintosh</td>\n",
              "      <td>not available in demo dataset</td>\n",
              "      <td>not available in demo dataset</td>\n",
              "      <td>Organic Search</td>\n",
              "      <td>False</td>\n",
              "    </tr>\n",
              "    <tr>\n",
              "      <th>2</th>\n",
              "      <td>1</td>\n",
              "      <td>2017-04-27 12:11:15</td>\n",
              "      <td>1.0</td>\n",
              "      <td>1.0</td>\n",
              "      <td>0.0</td>\n",
              "      <td>0.0</td>\n",
              "      <td>0.0</td>\n",
              "      <td>google</td>\n",
              "      <td>organic</td>\n",
              "      <td>(not set)</td>\n",
              "      <td>desktop</td>\n",
              "      <td>Windows</td>\n",
              "      <td>not available in demo dataset</td>\n",
              "      <td>not available in demo dataset</td>\n",
              "      <td>Organic Search</td>\n",
              "      <td>False</td>\n",
              "    </tr>\n",
              "    <tr>\n",
              "      <th>3</th>\n",
              "      <td>1</td>\n",
              "      <td>2017-04-27 13:22:04</td>\n",
              "      <td>1.0</td>\n",
              "      <td>1.0</td>\n",
              "      <td>0.0</td>\n",
              "      <td>0.0</td>\n",
              "      <td>0.0</td>\n",
              "      <td>google</td>\n",
              "      <td>organic</td>\n",
              "      <td>(not set)</td>\n",
              "      <td>desktop</td>\n",
              "      <td>Windows</td>\n",
              "      <td>not available in demo dataset</td>\n",
              "      <td>not available in demo dataset</td>\n",
              "      <td>Organic Search</td>\n",
              "      <td>False</td>\n",
              "    </tr>\n",
              "    <tr>\n",
              "      <th>4</th>\n",
              "      <td>3</td>\n",
              "      <td>2017-04-27 16:11:37</td>\n",
              "      <td>1.0</td>\n",
              "      <td>1.0</td>\n",
              "      <td>0.0</td>\n",
              "      <td>0.0</td>\n",
              "      <td>0.0</td>\n",
              "      <td>google</td>\n",
              "      <td>organic</td>\n",
              "      <td>(not set)</td>\n",
              "      <td>desktop</td>\n",
              "      <td>Windows</td>\n",
              "      <td>not available in demo dataset</td>\n",
              "      <td>not available in demo dataset</td>\n",
              "      <td>Organic Search</td>\n",
              "      <td>False</td>\n",
              "    </tr>\n",
              "  </tbody>\n",
              "</table>\n",
              "</div>"
            ],
            "text/plain": [
              "   VisitNumber      VisitStartTime  ...  ChannelGrouping   diff\n",
              "0            1 2017-04-27 22:13:49  ...   Organic Search  False\n",
              "1            1 2017-04-27 18:11:07  ...   Organic Search  False\n",
              "2            1 2017-04-27 12:11:15  ...   Organic Search  False\n",
              "3            1 2017-04-27 13:22:04  ...   Organic Search  False\n",
              "4            3 2017-04-27 16:11:37  ...   Organic Search  False\n",
              "\n",
              "[5 rows x 16 columns]"
            ]
          },
          "metadata": {
            "tags": []
          },
          "execution_count": 24
        }
      ]
    },
    {
      "cell_type": "markdown",
      "metadata": {
        "id": "o8Cb62oFbw12"
      },
      "source": [
        "10. source: The source of the traffic source. Could be the name of the search engine, the referring hostname, or a value of the utm_source URL parameter."
      ]
    },
    {
      "cell_type": "code",
      "metadata": {
        "colab": {
          "base_uri": "https://localhost:8080/"
        },
        "id": "oGEHkFKPaYGv",
        "outputId": "2841e124-c7a8-47d7-a695-79b0d253dfe6"
      },
      "source": [
        "df['source'].value_counts()"
      ],
      "execution_count": 25,
      "outputs": [
        {
          "output_type": "execute_result",
          "data": {
            "text/plain": [
              "(direct)                187241\n",
              "google                  179591\n",
              "youtube.com              50205\n",
              "analytics.google.com     10859\n",
              "Partners                  9715\n",
              "                         ...  \n",
              "google.bg                    1\n",
              "us.wow.com                   1\n",
              "images.google.lk             1\n",
              "basecamp.com                 1\n",
              "google.no                    1\n",
              "Name: source, Length: 223, dtype: int64"
            ]
          },
          "metadata": {
            "tags": []
          },
          "execution_count": 25
        }
      ]
    },
    {
      "cell_type": "markdown",
      "metadata": {
        "id": "uS-Gwz-BcImN"
      },
      "source": [
        "11. medium : The medium of the traffic source. Could be \"organic\", \"cpc\", \"referral\", or the value of the utm_medium URL parameter."
      ]
    },
    {
      "cell_type": "code",
      "metadata": {
        "colab": {
          "base_uri": "https://localhost:8080/"
        },
        "id": "GI5ZHEdpcRt1",
        "outputId": "b2ace1b2-58a6-451b-8880-5a23cfc9d291"
      },
      "source": [
        "df['medium'].value_counts()"
      ],
      "execution_count": 26,
      "outputs": [
        {
          "output_type": "execute_result",
          "data": {
            "text/plain": [
              "(none)       187239\n",
              "organic      173206\n",
              "referral      81701\n",
              "affiliate      9708\n",
              "cpc            9262\n",
              "cpm            3211\n",
              "(not set)       112\n",
              "Name: medium, dtype: int64"
            ]
          },
          "metadata": {
            "tags": []
          },
          "execution_count": 26
        }
      ]
    },
    {
      "cell_type": "markdown",
      "metadata": {
        "id": "U8ouhwk2cacO"
      },
      "source": [
        "12. campaign: The campaign value. Usually set by the utm_campaign URL parameter."
      ]
    },
    {
      "cell_type": "code",
      "metadata": {
        "colab": {
          "base_uri": "https://localhost:8080/"
        },
        "id": "6KvTfpWRcnSx",
        "outputId": "80950081-ea79-4d00-bacf-ee6cddc52987"
      },
      "source": [
        "df['campaign'].value_counts()"
      ],
      "execution_count": 27,
      "outputs": [
        {
          "output_type": "execute_result",
          "data": {
            "text/plain": [
              "(not set)                             446332\n",
              "Data Share Promo                        9708\n",
              "AW - Accessories                        5318\n",
              "AW - Dynamic Search Ads Whole Site      3045\n",
              "AW - Apparel                              32\n",
              "AW - Electronics                           3\n",
              "Data Share                                 1\n",
              "Name: campaign, dtype: int64"
            ]
          },
          "metadata": {
            "tags": []
          },
          "execution_count": 27
        }
      ]
    },
    {
      "cell_type": "markdown",
      "metadata": {
        "id": "RB5etiOVcsNk"
      },
      "source": [
        "13. deviceCategory: The type of device (Mobile, Tablet, Desktop)."
      ]
    },
    {
      "cell_type": "code",
      "metadata": {
        "colab": {
          "base_uri": "https://localhost:8080/"
        },
        "id": "co6TagfYj6NC",
        "outputId": "7c31373e-ffe9-4a20-9deb-ade10bdb987b"
      },
      "source": [
        "df['deviceCategory'].value_counts()"
      ],
      "execution_count": 28,
      "outputs": [
        {
          "output_type": "execute_result",
          "data": {
            "text/plain": [
              "desktop    312851\n",
              "mobile     133180\n",
              "tablet      18408\n",
              "Name: deviceCategory, dtype: int64"
            ]
          },
          "metadata": {
            "tags": []
          },
          "execution_count": 28
        }
      ]
    },
    {
      "cell_type": "markdown",
      "metadata": {
        "id": "NHYcffiikE5i"
      },
      "source": [
        "14. operatingSystem: \tThe operating system of the device (e.g., \"Macintosh\" or \"Windows\")."
      ]
    },
    {
      "cell_type": "code",
      "metadata": {
        "colab": {
          "base_uri": "https://localhost:8080/"
        },
        "id": "k39pHByCkKFJ",
        "outputId": "5f533db1-2931-4c9e-e92a-3f408dcd7d6d"
      },
      "source": [
        "df['operatingSystem'].value_counts()"
      ],
      "execution_count": 29,
      "outputs": [
        {
          "output_type": "execute_result",
          "data": {
            "text/plain": [
              "Windows          171189\n",
              "Macintosh        107280\n",
              "Android           78213\n",
              "iOS               69077\n",
              "Linux             19343\n",
              "Chrome OS         15474\n",
              "(not set)          2797\n",
              "Windows Phone       623\n",
              "Samsung             186\n",
              "BlackBerry          112\n",
              "Nintendo WiiU        35\n",
              "Xbox                 34\n",
              "Nintendo Wii         33\n",
              "Firefox OS           32\n",
              "FreeBSD               7\n",
              "OpenBSD               2\n",
              "NTT DoCoMo            1\n",
              "Nintendo 3DS          1\n",
              "Name: operatingSystem, dtype: int64"
            ]
          },
          "metadata": {
            "tags": []
          },
          "execution_count": 29
        }
      ]
    },
    {
      "cell_type": "markdown",
      "metadata": {
        "id": "ds8GIc5MkUji"
      },
      "source": [
        "15. mobileDeviceModel: The mobile device model. "
      ]
    },
    {
      "cell_type": "code",
      "metadata": {
        "colab": {
          "base_uri": "https://localhost:8080/"
        },
        "id": "VeicXpU-knjd",
        "outputId": "96a37ee0-d52e-4da0-bae2-16d5001a3c18"
      },
      "source": [
        "df['mobileDeviceModel'].value_counts()"
      ],
      "execution_count": 30,
      "outputs": [
        {
          "output_type": "execute_result",
          "data": {
            "text/plain": [
              "not available in demo dataset    464439\n",
              "Name: mobileDeviceModel, dtype: int64"
            ]
          },
          "metadata": {
            "tags": []
          },
          "execution_count": 30
        }
      ]
    },
    {
      "cell_type": "code",
      "metadata": {
        "colab": {
          "base_uri": "https://localhost:8080/",
          "height": 442
        },
        "id": "9Q__ogxmktxU",
        "outputId": "943bd9ad-533f-42a8-a7d5-40f6a004d0a6"
      },
      "source": [
        "df = df.drop('mobileDeviceModel', axis=1)\n",
        "df.head()"
      ],
      "execution_count": 31,
      "outputs": [
        {
          "output_type": "execute_result",
          "data": {
            "text/html": [
              "<div>\n",
              "<style scoped>\n",
              "    .dataframe tbody tr th:only-of-type {\n",
              "        vertical-align: middle;\n",
              "    }\n",
              "\n",
              "    .dataframe tbody tr th {\n",
              "        vertical-align: top;\n",
              "    }\n",
              "\n",
              "    .dataframe thead th {\n",
              "        text-align: right;\n",
              "    }\n",
              "</style>\n",
              "<table border=\"1\" class=\"dataframe\">\n",
              "  <thead>\n",
              "    <tr style=\"text-align: right;\">\n",
              "      <th></th>\n",
              "      <th>VisitNumber</th>\n",
              "      <th>VisitStartTime</th>\n",
              "      <th>bounces</th>\n",
              "      <th>pageviews</th>\n",
              "      <th>timeOnSite</th>\n",
              "      <th>totalTransactionRevenue</th>\n",
              "      <th>transactions</th>\n",
              "      <th>source</th>\n",
              "      <th>medium</th>\n",
              "      <th>campaign</th>\n",
              "      <th>deviceCategory</th>\n",
              "      <th>operatingSystem</th>\n",
              "      <th>city</th>\n",
              "      <th>ChannelGrouping</th>\n",
              "      <th>diff</th>\n",
              "    </tr>\n",
              "  </thead>\n",
              "  <tbody>\n",
              "    <tr>\n",
              "      <th>0</th>\n",
              "      <td>1</td>\n",
              "      <td>2017-04-27 22:13:49</td>\n",
              "      <td>1.0</td>\n",
              "      <td>1.0</td>\n",
              "      <td>0.0</td>\n",
              "      <td>0.0</td>\n",
              "      <td>0.0</td>\n",
              "      <td>google</td>\n",
              "      <td>organic</td>\n",
              "      <td>(not set)</td>\n",
              "      <td>desktop</td>\n",
              "      <td>Macintosh</td>\n",
              "      <td>Mountain View</td>\n",
              "      <td>Organic Search</td>\n",
              "      <td>False</td>\n",
              "    </tr>\n",
              "    <tr>\n",
              "      <th>1</th>\n",
              "      <td>1</td>\n",
              "      <td>2017-04-27 18:11:07</td>\n",
              "      <td>1.0</td>\n",
              "      <td>1.0</td>\n",
              "      <td>0.0</td>\n",
              "      <td>0.0</td>\n",
              "      <td>0.0</td>\n",
              "      <td>google</td>\n",
              "      <td>organic</td>\n",
              "      <td>(not set)</td>\n",
              "      <td>desktop</td>\n",
              "      <td>Macintosh</td>\n",
              "      <td>not available in demo dataset</td>\n",
              "      <td>Organic Search</td>\n",
              "      <td>False</td>\n",
              "    </tr>\n",
              "    <tr>\n",
              "      <th>2</th>\n",
              "      <td>1</td>\n",
              "      <td>2017-04-27 12:11:15</td>\n",
              "      <td>1.0</td>\n",
              "      <td>1.0</td>\n",
              "      <td>0.0</td>\n",
              "      <td>0.0</td>\n",
              "      <td>0.0</td>\n",
              "      <td>google</td>\n",
              "      <td>organic</td>\n",
              "      <td>(not set)</td>\n",
              "      <td>desktop</td>\n",
              "      <td>Windows</td>\n",
              "      <td>not available in demo dataset</td>\n",
              "      <td>Organic Search</td>\n",
              "      <td>False</td>\n",
              "    </tr>\n",
              "    <tr>\n",
              "      <th>3</th>\n",
              "      <td>1</td>\n",
              "      <td>2017-04-27 13:22:04</td>\n",
              "      <td>1.0</td>\n",
              "      <td>1.0</td>\n",
              "      <td>0.0</td>\n",
              "      <td>0.0</td>\n",
              "      <td>0.0</td>\n",
              "      <td>google</td>\n",
              "      <td>organic</td>\n",
              "      <td>(not set)</td>\n",
              "      <td>desktop</td>\n",
              "      <td>Windows</td>\n",
              "      <td>not available in demo dataset</td>\n",
              "      <td>Organic Search</td>\n",
              "      <td>False</td>\n",
              "    </tr>\n",
              "    <tr>\n",
              "      <th>4</th>\n",
              "      <td>3</td>\n",
              "      <td>2017-04-27 16:11:37</td>\n",
              "      <td>1.0</td>\n",
              "      <td>1.0</td>\n",
              "      <td>0.0</td>\n",
              "      <td>0.0</td>\n",
              "      <td>0.0</td>\n",
              "      <td>google</td>\n",
              "      <td>organic</td>\n",
              "      <td>(not set)</td>\n",
              "      <td>desktop</td>\n",
              "      <td>Windows</td>\n",
              "      <td>not available in demo dataset</td>\n",
              "      <td>Organic Search</td>\n",
              "      <td>False</td>\n",
              "    </tr>\n",
              "  </tbody>\n",
              "</table>\n",
              "</div>"
            ],
            "text/plain": [
              "   VisitNumber      VisitStartTime  ...  ChannelGrouping   diff\n",
              "0            1 2017-04-27 22:13:49  ...   Organic Search  False\n",
              "1            1 2017-04-27 18:11:07  ...   Organic Search  False\n",
              "2            1 2017-04-27 12:11:15  ...   Organic Search  False\n",
              "3            1 2017-04-27 13:22:04  ...   Organic Search  False\n",
              "4            3 2017-04-27 16:11:37  ...   Organic Search  False\n",
              "\n",
              "[5 rows x 15 columns]"
            ]
          },
          "metadata": {
            "tags": []
          },
          "execution_count": 31
        }
      ]
    },
    {
      "cell_type": "markdown",
      "metadata": {
        "id": "zFE_KwCHkz-I"
      },
      "source": [
        "16: city: Users' city, derived from their IP addresses or Geographical IDs."
      ]
    },
    {
      "cell_type": "code",
      "metadata": {
        "colab": {
          "base_uri": "https://localhost:8080/"
        },
        "id": "ay1kIxbblLGe",
        "outputId": "34a6f1d2-0d15-4ddf-ca0d-ab0129c854e9"
      },
      "source": [
        "df['city'].value_counts()"
      ],
      "execution_count": 32,
      "outputs": [
        {
          "output_type": "execute_result",
          "data": {
            "text/plain": [
              "not available in demo dataset    268179\n",
              "Mountain View                     21560\n",
              "(not set)                         16313\n",
              "New York                          14582\n",
              "San Francisco                     11455\n",
              "                                  ...  \n",
              "Thornton                              5\n",
              "Boise                                 3\n",
              "Pryor                                 3\n",
              "Bozeman                               3\n",
              "Saratoga                              3\n",
              "Name: city, Length: 436, dtype: int64"
            ]
          },
          "metadata": {
            "tags": []
          },
          "execution_count": 32
        }
      ]
    },
    {
      "cell_type": "markdown",
      "metadata": {
        "id": "H4_dPCvIlhky"
      },
      "source": [
        "17. ChannelGrouping: The Default Channel Group associated with an end user's session for this View. "
      ]
    },
    {
      "cell_type": "code",
      "metadata": {
        "colab": {
          "base_uri": "https://localhost:8080/"
        },
        "id": "2Rl-LuPulj-n",
        "outputId": "589a0f19-6ff3-4882-e8ee-164eb6d4e635"
      },
      "source": [
        "df['ChannelGrouping'].value_counts()"
      ],
      "execution_count": 33,
      "outputs": [
        {
          "output_type": "execute_result",
          "data": {
            "text/plain": [
              "Organic Search    232876\n",
              "Direct             85993\n",
              "Social             59915\n",
              "Referral           58390\n",
              "Paid Search        14177\n",
              "Affiliates          9708\n",
              "Display             3265\n",
              "(Other)              114\n",
              "Organic S              1\n",
              "Name: ChannelGrouping, dtype: int64"
            ]
          },
          "metadata": {
            "tags": []
          },
          "execution_count": 33
        }
      ]
    },
    {
      "cell_type": "code",
      "metadata": {
        "colab": {
          "base_uri": "https://localhost:8080/"
        },
        "id": "3M43kS-umP95",
        "outputId": "4bfe5557-34de-4b71-ef7f-0afa1893bf01"
      },
      "source": [
        "df.info()"
      ],
      "execution_count": 34,
      "outputs": [
        {
          "output_type": "stream",
          "text": [
            "<class 'pandas.core.frame.DataFrame'>\n",
            "RangeIndex: 464439 entries, 0 to 464438\n",
            "Data columns (total 15 columns):\n",
            " #   Column                   Non-Null Count   Dtype         \n",
            "---  ------                   --------------   -----         \n",
            " 0   VisitNumber              464439 non-null  int64         \n",
            " 1   VisitStartTime           464439 non-null  datetime64[ns]\n",
            " 2   bounces                  464439 non-null  float64       \n",
            " 3   pageviews                464439 non-null  float64       \n",
            " 4   timeOnSite               464439 non-null  float64       \n",
            " 5   totalTransactionRevenue  464439 non-null  float64       \n",
            " 6   transactions             464439 non-null  float64       \n",
            " 7   source                   464439 non-null  object        \n",
            " 8   medium                   464439 non-null  object        \n",
            " 9   campaign                 464439 non-null  object        \n",
            " 10  deviceCategory           464439 non-null  object        \n",
            " 11  operatingSystem          464439 non-null  object        \n",
            " 12  city                     464439 non-null  object        \n",
            " 13  ChannelGrouping          464439 non-null  object        \n",
            " 14  diff                     464439 non-null  bool          \n",
            "dtypes: bool(1), datetime64[ns](1), float64(5), int64(1), object(7)\n",
            "memory usage: 50.1+ MB\n"
          ],
          "name": "stdout"
        }
      ]
    },
    {
      "cell_type": "code",
      "metadata": {
        "colab": {
          "base_uri": "https://localhost:8080/",
          "height": 442
        },
        "id": "W4XMGuCym3Ay",
        "outputId": "bcd18036-8972-43ff-e76c-fce174d60365"
      },
      "source": [
        "df.head()"
      ],
      "execution_count": 35,
      "outputs": [
        {
          "output_type": "execute_result",
          "data": {
            "text/html": [
              "<div>\n",
              "<style scoped>\n",
              "    .dataframe tbody tr th:only-of-type {\n",
              "        vertical-align: middle;\n",
              "    }\n",
              "\n",
              "    .dataframe tbody tr th {\n",
              "        vertical-align: top;\n",
              "    }\n",
              "\n",
              "    .dataframe thead th {\n",
              "        text-align: right;\n",
              "    }\n",
              "</style>\n",
              "<table border=\"1\" class=\"dataframe\">\n",
              "  <thead>\n",
              "    <tr style=\"text-align: right;\">\n",
              "      <th></th>\n",
              "      <th>VisitNumber</th>\n",
              "      <th>VisitStartTime</th>\n",
              "      <th>bounces</th>\n",
              "      <th>pageviews</th>\n",
              "      <th>timeOnSite</th>\n",
              "      <th>totalTransactionRevenue</th>\n",
              "      <th>transactions</th>\n",
              "      <th>source</th>\n",
              "      <th>medium</th>\n",
              "      <th>campaign</th>\n",
              "      <th>deviceCategory</th>\n",
              "      <th>operatingSystem</th>\n",
              "      <th>city</th>\n",
              "      <th>ChannelGrouping</th>\n",
              "      <th>diff</th>\n",
              "    </tr>\n",
              "  </thead>\n",
              "  <tbody>\n",
              "    <tr>\n",
              "      <th>0</th>\n",
              "      <td>1</td>\n",
              "      <td>2017-04-27 22:13:49</td>\n",
              "      <td>1.0</td>\n",
              "      <td>1.0</td>\n",
              "      <td>0.0</td>\n",
              "      <td>0.0</td>\n",
              "      <td>0.0</td>\n",
              "      <td>google</td>\n",
              "      <td>organic</td>\n",
              "      <td>(not set)</td>\n",
              "      <td>desktop</td>\n",
              "      <td>Macintosh</td>\n",
              "      <td>Mountain View</td>\n",
              "      <td>Organic Search</td>\n",
              "      <td>False</td>\n",
              "    </tr>\n",
              "    <tr>\n",
              "      <th>1</th>\n",
              "      <td>1</td>\n",
              "      <td>2017-04-27 18:11:07</td>\n",
              "      <td>1.0</td>\n",
              "      <td>1.0</td>\n",
              "      <td>0.0</td>\n",
              "      <td>0.0</td>\n",
              "      <td>0.0</td>\n",
              "      <td>google</td>\n",
              "      <td>organic</td>\n",
              "      <td>(not set)</td>\n",
              "      <td>desktop</td>\n",
              "      <td>Macintosh</td>\n",
              "      <td>not available in demo dataset</td>\n",
              "      <td>Organic Search</td>\n",
              "      <td>False</td>\n",
              "    </tr>\n",
              "    <tr>\n",
              "      <th>2</th>\n",
              "      <td>1</td>\n",
              "      <td>2017-04-27 12:11:15</td>\n",
              "      <td>1.0</td>\n",
              "      <td>1.0</td>\n",
              "      <td>0.0</td>\n",
              "      <td>0.0</td>\n",
              "      <td>0.0</td>\n",
              "      <td>google</td>\n",
              "      <td>organic</td>\n",
              "      <td>(not set)</td>\n",
              "      <td>desktop</td>\n",
              "      <td>Windows</td>\n",
              "      <td>not available in demo dataset</td>\n",
              "      <td>Organic Search</td>\n",
              "      <td>False</td>\n",
              "    </tr>\n",
              "    <tr>\n",
              "      <th>3</th>\n",
              "      <td>1</td>\n",
              "      <td>2017-04-27 13:22:04</td>\n",
              "      <td>1.0</td>\n",
              "      <td>1.0</td>\n",
              "      <td>0.0</td>\n",
              "      <td>0.0</td>\n",
              "      <td>0.0</td>\n",
              "      <td>google</td>\n",
              "      <td>organic</td>\n",
              "      <td>(not set)</td>\n",
              "      <td>desktop</td>\n",
              "      <td>Windows</td>\n",
              "      <td>not available in demo dataset</td>\n",
              "      <td>Organic Search</td>\n",
              "      <td>False</td>\n",
              "    </tr>\n",
              "    <tr>\n",
              "      <th>4</th>\n",
              "      <td>3</td>\n",
              "      <td>2017-04-27 16:11:37</td>\n",
              "      <td>1.0</td>\n",
              "      <td>1.0</td>\n",
              "      <td>0.0</td>\n",
              "      <td>0.0</td>\n",
              "      <td>0.0</td>\n",
              "      <td>google</td>\n",
              "      <td>organic</td>\n",
              "      <td>(not set)</td>\n",
              "      <td>desktop</td>\n",
              "      <td>Windows</td>\n",
              "      <td>not available in demo dataset</td>\n",
              "      <td>Organic Search</td>\n",
              "      <td>False</td>\n",
              "    </tr>\n",
              "  </tbody>\n",
              "</table>\n",
              "</div>"
            ],
            "text/plain": [
              "   VisitNumber      VisitStartTime  ...  ChannelGrouping   diff\n",
              "0            1 2017-04-27 22:13:49  ...   Organic Search  False\n",
              "1            1 2017-04-27 18:11:07  ...   Organic Search  False\n",
              "2            1 2017-04-27 12:11:15  ...   Organic Search  False\n",
              "3            1 2017-04-27 13:22:04  ...   Organic Search  False\n",
              "4            3 2017-04-27 16:11:37  ...   Organic Search  False\n",
              "\n",
              "[5 rows x 15 columns]"
            ]
          },
          "metadata": {
            "tags": []
          },
          "execution_count": 35
        }
      ]
    },
    {
      "cell_type": "markdown",
      "metadata": {
        "id": "sN5K-THXnOez"
      },
      "source": [
        "**Problem Statement**: To predict if the new visitor will transact or not. \n",
        "\n",
        "We therefore create a new target variable column- 'transact', which takes the value 1 for a transaction and 0 for no transaction."
      ]
    },
    {
      "cell_type": "code",
      "metadata": {
        "id": "ZXkGr01snC1e"
      },
      "source": [
        "df['transact'] = np.where(df['transactions']  == 0, '0','1')\n",
        "df['transact'] = df['transact'].astype('str')"
      ],
      "execution_count": 36,
      "outputs": []
    },
    {
      "cell_type": "code",
      "metadata": {
        "id": "uWMIUcw2njw4"
      },
      "source": [
        "df['TransactionRevenue'] = df['totalTransactionRevenue'] / 1000000"
      ],
      "execution_count": 37,
      "outputs": []
    },
    {
      "cell_type": "code",
      "metadata": {
        "colab": {
          "base_uri": "https://localhost:8080/",
          "height": 442
        },
        "id": "GymhDuNPnwxZ",
        "outputId": "933a5f0d-ce0e-4f6d-aac8-19ea24fb2cb0"
      },
      "source": [
        "df.head()"
      ],
      "execution_count": 38,
      "outputs": [
        {
          "output_type": "execute_result",
          "data": {
            "text/html": [
              "<div>\n",
              "<style scoped>\n",
              "    .dataframe tbody tr th:only-of-type {\n",
              "        vertical-align: middle;\n",
              "    }\n",
              "\n",
              "    .dataframe tbody tr th {\n",
              "        vertical-align: top;\n",
              "    }\n",
              "\n",
              "    .dataframe thead th {\n",
              "        text-align: right;\n",
              "    }\n",
              "</style>\n",
              "<table border=\"1\" class=\"dataframe\">\n",
              "  <thead>\n",
              "    <tr style=\"text-align: right;\">\n",
              "      <th></th>\n",
              "      <th>VisitNumber</th>\n",
              "      <th>VisitStartTime</th>\n",
              "      <th>bounces</th>\n",
              "      <th>pageviews</th>\n",
              "      <th>timeOnSite</th>\n",
              "      <th>totalTransactionRevenue</th>\n",
              "      <th>transactions</th>\n",
              "      <th>source</th>\n",
              "      <th>medium</th>\n",
              "      <th>campaign</th>\n",
              "      <th>deviceCategory</th>\n",
              "      <th>operatingSystem</th>\n",
              "      <th>city</th>\n",
              "      <th>ChannelGrouping</th>\n",
              "      <th>diff</th>\n",
              "      <th>transact</th>\n",
              "      <th>TransactionRevenue</th>\n",
              "    </tr>\n",
              "  </thead>\n",
              "  <tbody>\n",
              "    <tr>\n",
              "      <th>0</th>\n",
              "      <td>1</td>\n",
              "      <td>2017-04-27 22:13:49</td>\n",
              "      <td>1.0</td>\n",
              "      <td>1.0</td>\n",
              "      <td>0.0</td>\n",
              "      <td>0.0</td>\n",
              "      <td>0.0</td>\n",
              "      <td>google</td>\n",
              "      <td>organic</td>\n",
              "      <td>(not set)</td>\n",
              "      <td>desktop</td>\n",
              "      <td>Macintosh</td>\n",
              "      <td>Mountain View</td>\n",
              "      <td>Organic Search</td>\n",
              "      <td>False</td>\n",
              "      <td>0</td>\n",
              "      <td>0.0</td>\n",
              "    </tr>\n",
              "    <tr>\n",
              "      <th>1</th>\n",
              "      <td>1</td>\n",
              "      <td>2017-04-27 18:11:07</td>\n",
              "      <td>1.0</td>\n",
              "      <td>1.0</td>\n",
              "      <td>0.0</td>\n",
              "      <td>0.0</td>\n",
              "      <td>0.0</td>\n",
              "      <td>google</td>\n",
              "      <td>organic</td>\n",
              "      <td>(not set)</td>\n",
              "      <td>desktop</td>\n",
              "      <td>Macintosh</td>\n",
              "      <td>not available in demo dataset</td>\n",
              "      <td>Organic Search</td>\n",
              "      <td>False</td>\n",
              "      <td>0</td>\n",
              "      <td>0.0</td>\n",
              "    </tr>\n",
              "    <tr>\n",
              "      <th>2</th>\n",
              "      <td>1</td>\n",
              "      <td>2017-04-27 12:11:15</td>\n",
              "      <td>1.0</td>\n",
              "      <td>1.0</td>\n",
              "      <td>0.0</td>\n",
              "      <td>0.0</td>\n",
              "      <td>0.0</td>\n",
              "      <td>google</td>\n",
              "      <td>organic</td>\n",
              "      <td>(not set)</td>\n",
              "      <td>desktop</td>\n",
              "      <td>Windows</td>\n",
              "      <td>not available in demo dataset</td>\n",
              "      <td>Organic Search</td>\n",
              "      <td>False</td>\n",
              "      <td>0</td>\n",
              "      <td>0.0</td>\n",
              "    </tr>\n",
              "    <tr>\n",
              "      <th>3</th>\n",
              "      <td>1</td>\n",
              "      <td>2017-04-27 13:22:04</td>\n",
              "      <td>1.0</td>\n",
              "      <td>1.0</td>\n",
              "      <td>0.0</td>\n",
              "      <td>0.0</td>\n",
              "      <td>0.0</td>\n",
              "      <td>google</td>\n",
              "      <td>organic</td>\n",
              "      <td>(not set)</td>\n",
              "      <td>desktop</td>\n",
              "      <td>Windows</td>\n",
              "      <td>not available in demo dataset</td>\n",
              "      <td>Organic Search</td>\n",
              "      <td>False</td>\n",
              "      <td>0</td>\n",
              "      <td>0.0</td>\n",
              "    </tr>\n",
              "    <tr>\n",
              "      <th>4</th>\n",
              "      <td>3</td>\n",
              "      <td>2017-04-27 16:11:37</td>\n",
              "      <td>1.0</td>\n",
              "      <td>1.0</td>\n",
              "      <td>0.0</td>\n",
              "      <td>0.0</td>\n",
              "      <td>0.0</td>\n",
              "      <td>google</td>\n",
              "      <td>organic</td>\n",
              "      <td>(not set)</td>\n",
              "      <td>desktop</td>\n",
              "      <td>Windows</td>\n",
              "      <td>not available in demo dataset</td>\n",
              "      <td>Organic Search</td>\n",
              "      <td>False</td>\n",
              "      <td>0</td>\n",
              "      <td>0.0</td>\n",
              "    </tr>\n",
              "  </tbody>\n",
              "</table>\n",
              "</div>"
            ],
            "text/plain": [
              "   VisitNumber      VisitStartTime  bounces  ...   diff  transact  TransactionRevenue\n",
              "0            1 2017-04-27 22:13:49      1.0  ...  False         0                 0.0\n",
              "1            1 2017-04-27 18:11:07      1.0  ...  False         0                 0.0\n",
              "2            1 2017-04-27 12:11:15      1.0  ...  False         0                 0.0\n",
              "3            1 2017-04-27 13:22:04      1.0  ...  False         0                 0.0\n",
              "4            3 2017-04-27 16:11:37      1.0  ...  False         0                 0.0\n",
              "\n",
              "[5 rows x 17 columns]"
            ]
          },
          "metadata": {
            "tags": []
          },
          "execution_count": 38
        }
      ]
    },
    {
      "cell_type": "code",
      "metadata": {
        "colab": {
          "base_uri": "https://localhost:8080/",
          "height": 295
        },
        "id": "NlXZGyxIn3V7",
        "outputId": "d4976946-bfc8-49aa-bb39-43143f1009ef"
      },
      "source": [
        "df.describe()"
      ],
      "execution_count": 39,
      "outputs": [
        {
          "output_type": "execute_result",
          "data": {
            "text/html": [
              "<div>\n",
              "<style scoped>\n",
              "    .dataframe tbody tr th:only-of-type {\n",
              "        vertical-align: middle;\n",
              "    }\n",
              "\n",
              "    .dataframe tbody tr th {\n",
              "        vertical-align: top;\n",
              "    }\n",
              "\n",
              "    .dataframe thead th {\n",
              "        text-align: right;\n",
              "    }\n",
              "</style>\n",
              "<table border=\"1\" class=\"dataframe\">\n",
              "  <thead>\n",
              "    <tr style=\"text-align: right;\">\n",
              "      <th></th>\n",
              "      <th>VisitNumber</th>\n",
              "      <th>bounces</th>\n",
              "      <th>pageviews</th>\n",
              "      <th>timeOnSite</th>\n",
              "      <th>totalTransactionRevenue</th>\n",
              "      <th>transactions</th>\n",
              "      <th>TransactionRevenue</th>\n",
              "    </tr>\n",
              "  </thead>\n",
              "  <tbody>\n",
              "    <tr>\n",
              "      <th>count</th>\n",
              "      <td>464439.000000</td>\n",
              "      <td>464439.000000</td>\n",
              "      <td>464439.000000</td>\n",
              "      <td>464439.000000</td>\n",
              "      <td>4.644390e+05</td>\n",
              "      <td>464439.000000</td>\n",
              "      <td>464439.000000</td>\n",
              "    </tr>\n",
              "    <tr>\n",
              "      <th>mean</th>\n",
              "      <td>2.334040</td>\n",
              "      <td>0.499911</td>\n",
              "      <td>3.771589</td>\n",
              "      <td>139.594659</td>\n",
              "      <td>2.196278e+06</td>\n",
              "      <td>0.014213</td>\n",
              "      <td>2.196278</td>\n",
              "    </tr>\n",
              "    <tr>\n",
              "      <th>std</th>\n",
              "      <td>9.879354</td>\n",
              "      <td>0.500001</td>\n",
              "      <td>6.403345</td>\n",
              "      <td>374.763296</td>\n",
              "      <td>1.069374e+08</td>\n",
              "      <td>0.136039</td>\n",
              "      <td>106.937428</td>\n",
              "    </tr>\n",
              "    <tr>\n",
              "      <th>min</th>\n",
              "      <td>1.000000</td>\n",
              "      <td>0.000000</td>\n",
              "      <td>0.000000</td>\n",
              "      <td>0.000000</td>\n",
              "      <td>0.000000e+00</td>\n",
              "      <td>0.000000</td>\n",
              "      <td>0.000000</td>\n",
              "    </tr>\n",
              "    <tr>\n",
              "      <th>25%</th>\n",
              "      <td>1.000000</td>\n",
              "      <td>0.000000</td>\n",
              "      <td>1.000000</td>\n",
              "      <td>0.000000</td>\n",
              "      <td>0.000000e+00</td>\n",
              "      <td>0.000000</td>\n",
              "      <td>0.000000</td>\n",
              "    </tr>\n",
              "    <tr>\n",
              "      <th>50%</th>\n",
              "      <td>1.000000</td>\n",
              "      <td>0.000000</td>\n",
              "      <td>1.000000</td>\n",
              "      <td>0.000000</td>\n",
              "      <td>0.000000e+00</td>\n",
              "      <td>0.000000</td>\n",
              "      <td>0.000000</td>\n",
              "    </tr>\n",
              "    <tr>\n",
              "      <th>75%</th>\n",
              "      <td>1.000000</td>\n",
              "      <td>1.000000</td>\n",
              "      <td>4.000000</td>\n",
              "      <td>94.000000</td>\n",
              "      <td>0.000000e+00</td>\n",
              "      <td>0.000000</td>\n",
              "      <td>0.000000</td>\n",
              "    </tr>\n",
              "    <tr>\n",
              "      <th>max</th>\n",
              "      <td>395.000000</td>\n",
              "      <td>1.000000</td>\n",
              "      <td>466.000000</td>\n",
              "      <td>12136.000000</td>\n",
              "      <td>4.708206e+10</td>\n",
              "      <td>25.000000</td>\n",
              "      <td>47082.060000</td>\n",
              "    </tr>\n",
              "  </tbody>\n",
              "</table>\n",
              "</div>"
            ],
            "text/plain": [
              "         VisitNumber        bounces  ...   transactions  TransactionRevenue\n",
              "count  464439.000000  464439.000000  ...  464439.000000       464439.000000\n",
              "mean        2.334040       0.499911  ...       0.014213            2.196278\n",
              "std         9.879354       0.500001  ...       0.136039          106.937428\n",
              "min         1.000000       0.000000  ...       0.000000            0.000000\n",
              "25%         1.000000       0.000000  ...       0.000000            0.000000\n",
              "50%         1.000000       0.000000  ...       0.000000            0.000000\n",
              "75%         1.000000       1.000000  ...       0.000000            0.000000\n",
              "max       395.000000       1.000000  ...      25.000000        47082.060000\n",
              "\n",
              "[8 rows x 7 columns]"
            ]
          },
          "metadata": {
            "tags": []
          },
          "execution_count": 39
        }
      ]
    },
    {
      "cell_type": "markdown",
      "metadata": {
        "id": "kiaCeoIWoAvj"
      },
      "source": [
        "EDA on the basis of cleaned dataset."
      ]
    },
    {
      "cell_type": "markdown",
      "metadata": {
        "id": "WQ8aU7plo_YX"
      },
      "source": [
        "1. VisitNumber: Mean number of visits by an user is 2. Around 75% of users have visited only once. There are a number of outliers with values > 300, with the maximum value being 395.\n",
        " \n",
        "Given below is the boxplot for the same."
      ]
    },
    {
      "cell_type": "code",
      "metadata": {
        "colab": {
          "base_uri": "https://localhost:8080/",
          "height": 443
        },
        "id": "UU1OP48voZ1D",
        "outputId": "cba4a632-9fe2-4a1e-e0e8-213ac1f91541"
      },
      "source": [
        "%matplotlib inline\n",
        "plt.figure(figsize=(10,6))\n",
        "sns.boxplot(df['VisitNumber']);"
      ],
      "execution_count": 40,
      "outputs": [
        {
          "output_type": "stream",
          "text": [
            "/usr/local/lib/python3.7/dist-packages/seaborn/_decorators.py:43: FutureWarning: Pass the following variable as a keyword arg: x. From version 0.12, the only valid positional argument will be `data`, and passing other arguments without an explicit keyword will result in an error or misinterpretation.\n",
            "  FutureWarning\n"
          ],
          "name": "stderr"
        },
        {
          "output_type": "display_data",
          "data": {
            "image/png": "[encoded data removed]",
            "text/plain": [
              "<Figure size 720x432 with 1 Axes>"
            ]
          },
          "metadata": {
            "tags": [],
            "needs_background": "light"
          }
        }
      ]
    },
    {
      "cell_type": "markdown",
      "metadata": {
        "id": "m2kso7QipiTD"
      },
      "source": [
        "2. bounces: Around 75% of the visits are bounces."
      ]
    },
    {
      "cell_type": "markdown",
      "metadata": {
        "id": "AfrmdF9I1Tb7"
      },
      "source": [
        "3. pageviews: Mean number of total page views is close to 4. Around 75% of page views are close to 4. The number of outliers is 466. \n",
        "\n",
        "Given below is the is the number of transactions against page views."
      ]
    },
    {
      "cell_type": "code",
      "metadata": {
        "colab": {
          "base_uri": "https://localhost:8080/",
          "height": 404
        },
        "id": "AQ5FdAdj2AeB",
        "outputId": "95dacb52-b6ed-4465-f483-0f944aef3870"
      },
      "source": [
        "plt.figure(figsize=(20,6))\n",
        "sns.countplot(x='pageviews', data=df)\n",
        "plt.xlabel('Number of Page Views')\n",
        "plt.ylabel('Number of Transactions')\n",
        "plt.title('Number of Transactions by Number of Page Views');"
      ],
      "execution_count": 41,
      "outputs": [
        {
          "output_type": "display_data",
          "data": {
            "image/png": "[encoded data removed]",
            "text/plain": [
              "<Figure size 1440x432 with 1 Axes>"
            ]
          },
          "metadata": {
            "tags": [],
            "needs_background": "light"
          }
        }
      ]
    },
    {
      "cell_type": "markdown",
      "metadata": {
        "id": "moSmKiMd2R4a"
      },
      "source": [
        "4. timeOnSite: The average time spent by an user on the site is 139 seconds. The minimum time is 0 (for bounces), also there are some outliers with maximum values upto 12136 seconds."
      ]
    },
    {
      "cell_type": "markdown",
      "metadata": {
        "id": "NEDE3h2C2m6q"
      },
      "source": [
        "5. TransactionRevenue: The average revenue per transaction is 2 currency units, however there is an extremely large value outlier as the maximum is 47082."
      ]
    },
    {
      "cell_type": "code",
      "metadata": {
        "colab": {
          "base_uri": "https://localhost:8080/",
          "height": 388
        },
        "id": "uxUZc6413PHF",
        "outputId": "fb47ffb7-aaa6-4a3e-dd4a-67fff487dbc9"
      },
      "source": [
        "%matplotlib inline\n",
        "plt.figure(figsize=(10,6))\n",
        "sns.boxplot(x=df['TransactionRevenue']);"
      ],
      "execution_count": 42,
      "outputs": [
        {
          "output_type": "display_data",
          "data": {
            "image/png": "[encoded data removed]",
            "text/plain": [
              "<Figure size 720x432 with 1 Axes>"
            ]
          },
          "metadata": {
            "tags": [],
            "needs_background": "light"
          }
        }
      ]
    },
    {
      "cell_type": "markdown",
      "metadata": {
        "id": "ko8UGbfM3Q1E"
      },
      "source": [
        "6. transaction: The average number of transactions per visit is quite low at 0.014205. More than 75% of visits do not result in any transaction. There are some outliers, where the maximum number of transactions per visit reaches 25."
      ]
    },
    {
      "cell_type": "code",
      "metadata": {
        "colab": {
          "base_uri": "https://localhost:8080/",
          "height": 388
        },
        "id": "LYqU1mHl3gY3",
        "outputId": "fc27cde0-3041-4529-e387-081429bac6c7"
      },
      "source": [
        "%matplotlib inline\n",
        "plt.figure(figsize=(10,6))\n",
        "sns.boxplot(x=df['transactions']);"
      ],
      "execution_count": 43,
      "outputs": [
        {
          "output_type": "display_data",
          "data": {
            "image/png": "[encoded data removed]",
            "text/plain": [
              "<Figure size 720x432 with 1 Axes>"
            ]
          },
          "metadata": {
            "tags": [],
            "needs_background": "light"
          }
        }
      ]
    },
    {
      "cell_type": "markdown",
      "metadata": {
        "id": "ogj6Q4Oi4Ihd"
      },
      "source": [
        "7. transact: We can observe that 6308 visits have reulted in a transaction, whereas the remaining 458131 visits have yielded no transaction."
      ]
    },
    {
      "cell_type": "code",
      "metadata": {
        "colab": {
          "base_uri": "https://localhost:8080/"
        },
        "id": "Wi5h9w_U4ZcY",
        "outputId": "c2cf8e6b-d276-4fc2-e9cc-bd91c823ed33"
      },
      "source": [
        "df['transact'].value_counts()"
      ],
      "execution_count": 44,
      "outputs": [
        {
          "output_type": "execute_result",
          "data": {
            "text/plain": [
              "0    458131\n",
              "1      6308\n",
              "Name: transact, dtype: int64"
            ]
          },
          "metadata": {
            "tags": []
          },
          "execution_count": 44
        }
      ]
    },
    {
      "cell_type": "code",
      "metadata": {
        "id": "nE5vrfe05ZPH"
      },
      "source": [
        "base_colour = sns.color_palette()[0]\n"
      ],
      "execution_count": 45,
      "outputs": []
    },
    {
      "cell_type": "markdown",
      "metadata": {
        "id": "kgwFjEC75yaD"
      },
      "source": [
        "Transactions by category, operatingSystem, ChannelGrouping, medium"
      ]
    },
    {
      "cell_type": "code",
      "metadata": {
        "colab": {
          "base_uri": "https://localhost:8080/",
          "height": 497
        },
        "id": "CIyDns6P6DNz",
        "outputId": "04416024-92a9-4204-a07e-5d80a85cbe4b"
      },
      "source": [
        "plt.figure(figsize=(14,8))\n",
        "sns.countplot(x='deviceCategory', hue = 'transact', data=df);"
      ],
      "execution_count": 46,
      "outputs": [
        {
          "output_type": "display_data",
          "data": {
            "image/png": "[encoded data removed]",
            "text/plain": [
              "<Figure size 1008x576 with 1 Axes>"
            ]
          },
          "metadata": {
            "tags": [],
            "needs_background": "light"
          }
        }
      ]
    },
    {
      "cell_type": "code",
      "metadata": {
        "colab": {
          "base_uri": "https://localhost:8080/",
          "height": 497
        },
        "id": "VuHi6da16Iq0",
        "outputId": "6a0571d2-34e6-4214-9a55-bc2f28b3e265"
      },
      "source": [
        "plt.figure(figsize=(14,8))\n",
        "sns.countplot(x='ChannelGrouping', hue = 'transact', data=df);"
      ],
      "execution_count": 47,
      "outputs": [
        {
          "output_type": "display_data",
          "data": {
            "image/png": "[encoded data removed]",
            "text/plain": [
              "<Figure size 1008x576 with 1 Axes>"
            ]
          },
          "metadata": {
            "tags": [],
            "needs_background": "light"
          }
        }
      ]
    },
    {
      "cell_type": "code",
      "metadata": {
        "colab": {
          "base_uri": "https://localhost:8080/",
          "height": 497
        },
        "id": "UO_Mf8i56c0E",
        "outputId": "60f2f1bd-ee43-4e93-d783-42eb9e0ba36b"
      },
      "source": [
        "plt.figure(figsize=(24,8))\n",
        "sns.countplot(x='operatingSystem', hue = 'transact', data=df);"
      ],
      "execution_count": 48,
      "outputs": [
        {
          "output_type": "display_data",
          "data": {
            "image/png": "[encoded data removed]",
            "text/plain": [
              "<Figure size 1728x576 with 1 Axes>"
            ]
          },
          "metadata": {
            "tags": [],
            "needs_background": "light"
          }
        }
      ]
    },
    {
      "cell_type": "code",
      "metadata": {
        "colab": {
          "base_uri": "https://localhost:8080/",
          "height": 497
        },
        "id": "mndNHGs46sQ3",
        "outputId": "46efb7af-75e0-4938-f84f-e2e346c7b6c4"
      },
      "source": [
        "plt.figure(figsize=(14,8))\n",
        "sns.countplot(x='medium', hue = 'transact', data=df);"
      ],
      "execution_count": 49,
      "outputs": [
        {
          "output_type": "display_data",
          "data": {
            "image/png": "[encoded data removed]",
            "text/plain": [
              "<Figure size 1008x576 with 1 Axes>"
            ]
          },
          "metadata": {
            "tags": [],
            "needs_background": "light"
          }
        }
      ]
    },
    {
      "cell_type": "markdown",
      "metadata": {
        "id": "sGM9Mo9y657i"
      },
      "source": [
        "Correlation Matrix showing relationship between all the features"
      ]
    },
    {
      "cell_type": "code",
      "metadata": {
        "colab": {
          "base_uri": "https://localhost:8080/",
          "height": 829
        },
        "id": "Hes1OjIG62y3",
        "outputId": "69a272a6-572f-4de2-939d-34e11485f6d8"
      },
      "source": [
        "fig1 = plt.figure(figsize=(12,12));\n",
        "df.corr()\n",
        "plt.title('Data Correlation Matrix')\n",
        "sns.heatmap(df.corr(), vmin = -1, vmax = 1, cmap = 'coolwarm', annot=True);"
      ],
      "execution_count": 50,
      "outputs": [
        {
          "output_type": "display_data",
          "data": {
            "image/png": "[encoded data removed]",
            "text/plain": [
              "<Figure size 864x864 with 2 Axes>"
            ]
          },
          "metadata": {
            "tags": [],
            "needs_background": "light"
          }
        }
      ]
    }
  ]
}